{
 "cells": [
  {
   "cell_type": "code",
   "execution_count": null,
   "metadata": {},
   "outputs": [],
   "source": []
  },
  {
   "cell_type": "markdown",
   "id": "8d5d3b58-e0b5-4770-918e-87bf24e4aeed",
   "metadata": {},
   "source": [
    "# Install pachctl"
   ]
  },
  {
   "cell_type": "code",
   "execution_count": 1,
   "id": "e6981d48-ee94-43c4-a670-790c330d788d",
   "metadata": {},
   "outputs": [
    {
     "name": "stdout",
     "output_type": "stream",
     "text": [
      "  % Total    % Received % Xferd  Average Speed   Time    Time     Time  Current\n",
      "                                 Dload  Upload   Total   Spent    Left  Speed\n",
      "  0     0    0     0    0     0      0      0 --:--:-- --:--:-- --:--:--     0\n",
      "pachctl_2.7.5_linux_amd64/pachctl\n",
      "100 40.4M  100 40.4M    0     0  27.6M      0  0:00:01  0:00:01 --:--:-- 47.4M\n"
     ]
    }
   ],
   "source": [
    "!curl -L https://github.com/pachyderm/pachyderm/releases/download/v2.7.5/pachctl_2.7.5_linux_amd64.tar.gz | tar -xzv --strip-components=1 -C /usr/local/bin"
   ]
  },
  {
   "cell_type": "markdown",
   "id": "65b87f7f-6d8b-4b80-a97f-a2d705ab593b",
   "metadata": {},
   "source": [
    "# Connect to the cluster"
   ]
  },
  {
   "cell_type": "code",
   "execution_count": 2,
   "id": "a1c91ae3-6604-4e92-b9bd-ae5f42c2dc81",
   "metadata": {},
   "outputs": [
    {
     "name": "stdout",
     "output_type": "stream",
     "text": [
      "New context 'grpc://34.90.36.178:80' created, will connect to Pachyderm at grpc://34.90.36.178:80\n",
      "Context 'grpc://34.90.36.178:80' set as active\n",
      "2023-11-22T16:04:46.068Z\t\u001b[31mERROR\u001b[0m\tclient/client.go:618\tWARNING: Could not inspect project \"default\": error getting permissions for project \"default\": cannot get authenticated user: rpc error: code = Unauthenticated desc = no authentication token (try logging in)\n",
      "You will momentarily be directed to your IdP and asked to authorize Pachyderm's login app on your IdP.\n",
      "\n",
      "Paste the following URL into a browser if not automatically redirected:\n",
      "\n",
      "http://34.90.36.178.nip.io/dex/auth?client_id=pachd&nonce=uwOrEPV4Ey2xg0JyjaPkBRIH-5PCNyc&redirect_uri=http%3A%2F%2F34.90.36.178.nip.io%2Fauthorization-code%2Fcallback&response_type=code&scope=email+profile+groups+openid&state=1-o0xY2Wu-XgmihGx7XGn4gjIQ2MlM8\n",
      "\n",
      "\n",
      "Couldn't open a browser, visit the page manually.\n",
      "Retrieving Pachyderm token...\n"
     ]
    }
   ],
   "source": [
    "cluster_address = \"grpc://34.90.36.178:80\"\n",
    "\n",
    "!pachctl connect $cluster_address\n",
    "!pachctl auth login"
   ]
  },
  {
   "cell_type": "markdown",
   "id": "869c755c-4c89-4f45-9dc9-b95446853463",
   "metadata": {},
   "source": [
    "Open the link in your browser and enter your credentials"
   ]
  },
  {
   "cell_type": "markdown",
   "id": "10a1302a-c3b7-4a9e-b379-39c5cd42e175",
   "metadata": {},
   "source": [
    "# Create your MLDM project"
   ]
  },
  {
   "cell_type": "code",
   "execution_count": 3,
   "id": "4e3f1d47-cc71-4b03-b2b4-ac0fa191f857",
   "metadata": {},
   "outputs": [],
   "source": [
    "project_name = \"denisd-lab\" # change your project name"
   ]
  },
  {
   "cell_type": "code",
   "execution_count": 4,
   "id": "2f7fa380-72a5-42eb-8326-e3a22e64de38",
   "metadata": {},
   "outputs": [],
   "source": [
    "!pachctl create project $project_name"
   ]
  },
  {
   "cell_type": "code",
   "execution_count": 6,
   "id": "25788c4a-f7c9-41fc-88ea-323e549638b3",
   "metadata": {},
   "outputs": [
    {
     "name": "stdout",
     "output_type": "stream",
     "text": [
      "ACTIVE PROJECT        ACCESS_LEVEL                 CREATED            DESCRIPTION\n",
      "*      default        [clusterAdmin projectWriter] 3 weeks ago        -\n",
      "       my_project     [clusterAdmin projectOwner]  3 weeks ago        -\n",
      "       my_project2    [clusterAdmin projectOwner]  2 weeks ago        -\n",
      "       andrea_project [clusterAdmin projectOwner]  About a minute ago -\n",
      "       bv             [clusterAdmin projectOwner]  58 seconds ago     -\n",
      "       project-tb     [clusterAdmin projectOwner]  56 seconds ago     -\n",
      "       denisd-lab     [clusterAdmin projectOwner]  46 seconds ago     -\n",
      "       tp_project     [clusterAdmin projectOwner]  27 seconds ago     -\n"
     ]
    }
   ],
   "source": [
    "!pachctl list projects # default should be the active one"
   ]
  },
  {
   "cell_type": "markdown",
   "id": "27d1b26d-2be9-4375-a275-72c00bce548a",
   "metadata": {},
   "source": [
    "# Set the context to your project"
   ]
  },
  {
   "cell_type": "code",
   "execution_count": 7,
   "id": "1743f9b4-6d78-4322-9936-9665d74a5b8a",
   "metadata": {},
   "outputs": [
    {
     "name": "stdout",
     "output_type": "stream",
     "text": [
      "editing the currently active context \"grpc://34.90.36.178:80\"\n"
     ]
    }
   ],
   "source": [
    "!pachctl config update context --project $project_name"
   ]
  },
  {
   "cell_type": "code",
   "execution_count": 8,
   "id": "1fa13b5f-0b03-4a7f-aae4-e7d3d342d94f",
   "metadata": {},
   "outputs": [
    {
     "name": "stdout",
     "output_type": "stream",
     "text": [
      "ACTIVE PROJECT        ACCESS_LEVEL                 CREATED            DESCRIPTION\n",
      "       default        [clusterAdmin projectWriter] 3 weeks ago        -\n",
      "       my_project     [clusterAdmin projectOwner]  3 weeks ago        -\n",
      "       my_project2    [clusterAdmin projectOwner]  2 weeks ago        -\n",
      "       andrea_project [clusterAdmin projectOwner]  About a minute ago -\n",
      "       bv             [clusterAdmin projectOwner]  About a minute ago -\n",
      "       project-tb     [clusterAdmin projectOwner]  About a minute ago -\n",
      "*      denisd-lab     [clusterAdmin projectOwner]  About a minute ago -\n",
      "       tp_project     [clusterAdmin projectOwner]  About a minute ago -\n"
     ]
    }
   ],
   "source": [
    "!pachctl list projects # your project should be the active one"
   ]
  },
  {
   "cell_type": "code",
   "execution_count": 9,
   "id": "458fcdce-9e15-4216-a33b-9a6989c60e38",
   "metadata": {},
   "outputs": [
    {
     "name": "stdout",
     "output_type": "stream",
     "text": [
      "PROJECT NAME CREATED SIZE (MASTER) DESCRIPTION \n"
     ]
    }
   ],
   "source": [
    "!pachctl list repos # empty"
   ]
  },
  {
   "cell_type": "markdown",
   "id": "9a07bb38-5613-4e73-b85d-bc1da3448aa7",
   "metadata": {},
   "source": [
    "# Create the first repo and upload data"
   ]
  },
  {
   "cell_type": "code",
   "execution_count": 10,
   "id": "330f1994-ca46-4230-aa02-39393b81f1dc",
   "metadata": {},
   "outputs": [],
   "source": [
    "!pachctl create repo raw_videos_and_images"
   ]
  },
  {
   "cell_type": "code",
   "execution_count": 11,
   "id": "ac68cbeb-46e7-4fa3-ba81-fa5180764659",
   "metadata": {},
   "outputs": [
    {
     "name": "stdout",
     "output_type": "stream",
     "text": [
      "PROJECT    NAME                  CREATED       SIZE (MASTER) ACCESS_LEVEL                          DESCRIPTION \n",
      "denisd-lab raw_videos_and_images 2 seconds ago ≤ 0B          [clusterAdmin projectOwner repoOwner]             \n"
     ]
    }
   ],
   "source": [
    "!pachctl list repos # raw_videos_and_images repo should be listed here"
   ]
  },
  {
   "cell_type": "code",
   "execution_count": 12,
   "id": "860f2ca5-14b6-492b-a832-1f49e4b0057c",
   "metadata": {},
   "outputs": [
    {
     "name": "stdout",
     "output_type": "stream",
     "text": [
      "files/liberty.jpg 133.86 KB / 133.86 KB [==========================] 0s 0.00 b/s\n",
      "\u001b[1A\u001b[Jfiles/liberty.jpg 133.86 KB / 133.86 KB [==========================] 0s 0.00 b/s\n",
      "files/cat-sleeping.MOV 12.96 MB / 12.96 MB [=======================] 0s 0.00 b/s\n",
      "\u001b[1A\u001b[Jfiles/cat-sleeping.MOV 12.96 MB / 12.96 MB [=======================] 0s 0.00 b/s\n",
      "\u001b[1A\u001b[Jfiles/cat-sleeping.MOV 12.96 MB / 12.96 MB [=======================] 0s 0.00 b/s\n",
      "\u001b[1A\u001b[Jfiles/cat-sleeping.MOV 12.96 MB / 12.96 MB [=======================] 0s 0.00 b/s\n",
      "\u001b[1A\u001b[Jfiles/cat-sleeping.MOV 12.96 MB / 12.96 MB [=======================] 0s 0.00 b/s\n",
      "\u001b[1A\u001b[Jfiles/cat-sleeping.MOV 12.96 MB / 12.96 MB [=======================] 0s 0.00 b/s\n",
      "files/robot.jpg 123.23 KB / 123.23 KB [============================] 0s 0.00 b/s\n",
      "\u001b[1A\u001b[Jfiles/robot.jpg 123.23 KB / 123.23 KB [============================] 0s 0.00 b/s\n",
      "\u001b[1A\u001b[Jfiles/robot.jpg 123.23 KB / 123.23 KB [============================] 0s 0.00 b/s\n",
      "files/highway.MOV 9.98 MB / 9.98 MB [==============================] 0s 0.00 b/s\n",
      "\u001b[1A\u001b[Jfiles/highway.MOV 9.98 MB / 9.98 MB [==============================] 0s 0.00 b/s\n",
      "\u001b[1A\u001b[Jfiles/highway.MOV 9.98 MB / 9.98 MB [==============================] 0s 0.00 b/s\n",
      "\u001b[1A\u001b[Jfiles/highway.MOV 9.98 MB / 9.98 MB [==============================] 0s 0.00 b/s\n",
      "\u001b[1A\u001b[Jfiles/highway.MOV 9.98 MB / 9.98 MB [==============================] 0s 0.00 b/s\n"
     ]
    }
   ],
   "source": [
    "!pachctl put file raw_videos_and_images@master:liberty.png -f files/liberty.jpg\n",
    "!pachctl put file raw_videos_and_images@master:cat-sleeping.MOV -f files/cat-sleeping.MOV\n",
    "!pachctl put file raw_videos_and_images@master:robot.png -f files/robot.jpg\n",
    "!pachctl put file raw_videos_and_images@master:highway.MOV -f files/highway.MOV"
   ]
  },
  {
   "cell_type": "code",
   "execution_count": 13,
   "id": "b5c0e6fc-89a2-4ea6-9868-2831da66e632",
   "metadata": {},
   "outputs": [
    {
     "name": "stdout",
     "output_type": "stream",
     "text": [
      "NAME              TYPE SIZE     \n",
      "/cat-sleeping.MOV file 12.36MiB \n",
      "/highway.MOV      file 9.516MiB \n",
      "/liberty.png      file 130.7KiB \n",
      "/robot.png        file 120.3KiB \n"
     ]
    }
   ],
   "source": [
    "!pachctl list files raw_videos_and_images@master"
   ]
  },
  {
   "cell_type": "markdown",
   "id": "16b8aaaf-84ad-4e0d-9e05-b706e61b5317",
   "metadata": {},
   "source": [
    "# Creating the video mp4 converter pipeline"
   ]
  },
  {
   "cell_type": "code",
   "execution_count": 14,
   "id": "6c824c7e-edef-4331-ac07-b2024920e526",
   "metadata": {},
   "outputs": [
    {
     "name": "stdout",
     "output_type": "stream",
     "text": [
      "pipeline:\n",
      "  name: video_mp4_converter\n",
      "input:\n",
      "  pfs:\n",
      "    repo: raw_videos_and_images\n",
      "    glob: \"/*\"\n",
      "transform:\n",
      "  image: lbliii/video_mp4_converter:1.0.14\n",
      "  cmd:\n",
      "    - python3\n",
      "    - /video_mp4_converter.py\n",
      "    - --input\n",
      "    - /pfs/raw_videos_and_images/\n",
      "    - --output\n",
      "    - /pfs/out/\n",
      "autoscaling: true\n"
     ]
    }
   ],
   "source": [
    "!cat video_mp4_converter.yaml "
   ]
  },
  {
   "cell_type": "code",
   "execution_count": 15,
   "id": "25458476-0a33-4d1b-9bcc-03c5ea844837",
   "metadata": {},
   "outputs": [],
   "source": [
    "!pachctl create pipeline -f video_mp4_converter.yaml"
   ]
  },
  {
   "cell_type": "markdown",
   "id": "1e5035eb-5acd-4c28-aed0-29b939a71924",
   "metadata": {},
   "source": [
    "# Datums and glob patterns"
   ]
  },
  {
   "cell_type": "code",
   "execution_count": 16,
   "id": "ade4571a-bbc0-4e15-b26d-07faa1481e52",
   "metadata": {},
   "outputs": [
    {
     "name": "stdout",
     "output_type": "stream",
     "text": [
      "ID                                                               FILES                                                                               STATUS TIME               \n",
      "34c72adefd73aa41cf20fc4003532c1a29c16b02433c492de9a8dc2422d19695 denisd-lab/raw_videos_and_images@4bf1694b1d9e422dbe13ed103c82f1f1:/robot.png        \u001b[32m-\u001b[0m      Less than a second \n",
      "48445a6c755bacf3baf96b9be9cf0634f18d09e3daae8b672ef4cc5509df4ae3 denisd-lab/raw_videos_and_images@4bf1694b1d9e422dbe13ed103c82f1f1:/liberty.png      \u001b[32m-\u001b[0m      Less than a second \n",
      "b674bbcacca58f7b48ce78b6919590f333688e888294f5ca6ded9646ccfa9403 denisd-lab/raw_videos_and_images@4bf1694b1d9e422dbe13ed103c82f1f1:/highway.MOV      \u001b[32m-\u001b[0m      Less than a second \n",
      "dbf90651d6bd62739fdae0125cc82e082733d105613d2ecf8da3af9098efbf8e denisd-lab/raw_videos_and_images@4bf1694b1d9e422dbe13ed103c82f1f1:/cat-sleeping.MOV \u001b[32m-\u001b[0m      Less than a second \n"
     ]
    }
   ],
   "source": [
    "# how many datums does the video mp4 converter pipeline see?\n",
    "!pachctl list datum -f video_mp4_converter.yaml"
   ]
  },
  {
   "cell_type": "code",
   "execution_count": 17,
   "id": "1638aecf-17aa-4f46-9de5-736cda3b9346",
   "metadata": {},
   "outputs": [
    {
     "name": "stdout",
     "output_type": "stream",
     "text": [
      "NAME TYPE SIZE     \n",
      "/    dir  22.12MiB \n"
     ]
    }
   ],
   "source": [
    "# what if its glob pattern was \"/\"?\n",
    "!pachctl glob file raw_videos_and_images@master:/"
   ]
  },
  {
   "cell_type": "code",
   "execution_count": 18,
   "id": "104b4250-0c4f-4a05-822c-1ee3b2d4b717",
   "metadata": {},
   "outputs": [
    {
     "name": "stdout",
     "output_type": "stream",
     "text": [
      "NAME              TYPE SIZE     \n",
      "/cat-sleeping.MOV file 12.36MiB \n",
      "/highway.MOV      file 9.516MiB \n",
      "/liberty.png      file 130.7KiB \n",
      "/robot.png        file 120.3KiB \n"
     ]
    }
   ],
   "source": [
    "# what if its glob pattern was \"/*\"?\n",
    "!pachctl glob file raw_videos_and_images@master:/*"
   ]
  },
  {
   "cell_type": "code",
   "execution_count": 19,
   "id": "ff13acee-72de-4801-b63a-3cee2fc31b1b",
   "metadata": {},
   "outputs": [
    {
     "name": "stdout",
     "output_type": "stream",
     "text": [
      "NAME         TYPE SIZE     \n",
      "/liberty.png file 130.7KiB \n",
      "/robot.png   file 120.3KiB \n"
     ]
    }
   ],
   "source": [
    "# what if its glob pattern was \"/*.png\"?\n",
    "!pachctl glob file raw_videos_and_images@master:/*.png"
   ]
  },
  {
   "cell_type": "code",
   "execution_count": 20,
   "id": "8be63b30-525e-4361-884c-72bd1bc01bdc",
   "metadata": {},
   "outputs": [
    {
     "name": "stdout",
     "output_type": "stream",
     "text": [
      "NAME TYPE SIZE \n"
     ]
    }
   ],
   "source": [
    "# what if its glob pattern was \"/*.mp4\"?\n",
    "!pachctl glob file raw_videos_and_images@master:/*.mp4"
   ]
  },
  {
   "cell_type": "markdown",
   "id": "e5bc638d-3b5e-460f-8311-a4559c03a74c",
   "metadata": {},
   "source": [
    "# Updating the video mp4 converter pipeline"
   ]
  },
  {
   "cell_type": "markdown",
   "id": "58326c12-331c-48eb-87ec-973a97b8bda4",
   "metadata": {},
   "source": [
    "Edit __video_mp4_converter.yaml__ to only process .MOV files and then, update the pipeline with:"
   ]
  },
  {
   "cell_type": "code",
   "execution_count": 21,
   "id": "49f5779c-55a9-4fa9-9577-ba8defc0ca75",
   "metadata": {},
   "outputs": [],
   "source": [
    "!pachctl update pipeline -f video_mp4_converter.yaml"
   ]
  },
  {
   "cell_type": "code",
   "execution_count": 23,
   "id": "49bc6d56-c9ef-499a-857f-32aee4a39cc1",
   "metadata": {},
   "outputs": [
    {
     "name": "stdout",
     "output_type": "stream",
     "text": [
      "ID                               SUBJOBS PROGRESS CREATED        MODIFIED\n",
      "cc2e3d1fcf854480895af487a27a0714 1       \u001b[32m▇\u001b[0m\u001b[32m▇\u001b[0m\u001b[32m▇\u001b[0m\u001b[32m▇\u001b[0m\u001b[32m▇\u001b[0m\u001b[32m▇\u001b[0m\u001b[32m▇\u001b[0m\u001b[32m▇\u001b[0m 2 minutes ago  2 minutes ago  \n",
      "217694b51c444890929bc6d1d953d47d 1       \u001b[32m▇\u001b[0m\u001b[32m▇\u001b[0m\u001b[32m▇\u001b[0m\u001b[32m▇\u001b[0m\u001b[32m▇\u001b[0m\u001b[32m▇\u001b[0m\u001b[32m▇\u001b[0m\u001b[32m▇\u001b[0m 19 minutes ago 19 minutes ago \n"
     ]
    }
   ],
   "source": [
    "!pachctl list job"
   ]
  },
  {
   "cell_type": "code",
   "execution_count": 24,
   "id": "5945c055-17c7-4c2a-8ca3-52b2a2da0f4d",
   "metadata": {},
   "outputs": [
    {
     "name": "stdout",
     "output_type": "stream",
     "text": [
      "ID                               SUBCOMMITS PROGRESS CREATED        MODIFIED       \n",
      "cc2e3d1fcf854480895af487a27a0714 4          \u001b[32m▇\u001b[0m\u001b[32m▇\u001b[0m\u001b[32m▇\u001b[0m\u001b[32m▇\u001b[0m\u001b[32m▇\u001b[0m\u001b[32m▇\u001b[0m\u001b[32m▇\u001b[0m\u001b[32m▇\u001b[0m 35 minutes ago 2 minutes ago  \n",
      "217694b51c444890929bc6d1d953d47d 4          \u001b[32m▇\u001b[0m\u001b[32m▇\u001b[0m\u001b[32m▇\u001b[0m\u001b[32m▇\u001b[0m\u001b[32m▇\u001b[0m\u001b[32m▇\u001b[0m\u001b[32m▇\u001b[0m\u001b[32m▇\u001b[0m 35 minutes ago 19 minutes ago \n",
      "4bf1694b1d9e422dbe13ed103c82f1f1 1          \u001b[32m▇\u001b[0m\u001b[32m▇\u001b[0m\u001b[32m▇\u001b[0m\u001b[32m▇\u001b[0m\u001b[32m▇\u001b[0m\u001b[32m▇\u001b[0m\u001b[32m▇\u001b[0m\u001b[32m▇\u001b[0m 35 minutes ago 35 minutes ago \n",
      "e9cf39575158423298cb8b5541ff5caf 1          \u001b[32m▇\u001b[0m\u001b[32m▇\u001b[0m\u001b[32m▇\u001b[0m\u001b[32m▇\u001b[0m\u001b[32m▇\u001b[0m\u001b[32m▇\u001b[0m\u001b[32m▇\u001b[0m\u001b[32m▇\u001b[0m 35 minutes ago 35 minutes ago \n",
      "e5c1ee24c85f4f6fa2cfdb0994ac31f4 1          \u001b[32m▇\u001b[0m\u001b[32m▇\u001b[0m\u001b[32m▇\u001b[0m\u001b[32m▇\u001b[0m\u001b[32m▇\u001b[0m\u001b[32m▇\u001b[0m\u001b[32m▇\u001b[0m\u001b[32m▇\u001b[0m 35 minutes ago 35 minutes ago \n",
      "dc219964fd334023913be199c75b5bb1 1          \u001b[32m▇\u001b[0m\u001b[32m▇\u001b[0m\u001b[32m▇\u001b[0m\u001b[32m▇\u001b[0m\u001b[32m▇\u001b[0m\u001b[32m▇\u001b[0m\u001b[32m▇\u001b[0m\u001b[32m▇\u001b[0m 35 minutes ago 35 minutes ago \n"
     ]
    }
   ],
   "source": [
    "!pachctl list commit # notice that some commit IDs will be identical to job IDs"
   ]
  },
  {
   "cell_type": "markdown",
   "id": "485a5efc-b8be-4dc6-bfb3-e7263b63347a",
   "metadata": {},
   "source": [
    "# Inspecting jobs, logs and pipeline spec"
   ]
  },
  {
   "cell_type": "code",
   "execution_count": 25,
   "id": "513186e1-2ebe-400a-bf97-ab1ab5e6acb9",
   "metadata": {},
   "outputs": [
    {
     "name": "stdout",
     "output_type": "stream",
     "text": [
      "autoscaling: true\n",
      "datum_tries: \"3\"\n",
      "input:\n",
      "  pfs:\n",
      "    branch: master\n",
      "    glob: /*.MOV\n",
      "    name: raw_videos_and_images\n",
      "    project: denisd-lab\n",
      "    repo: raw_videos_and_images\n",
      "    repo_type: user\n",
      "output_branch: master\n",
      "pipeline:\n",
      "  name: video_mp4_converter\n",
      "  project:\n",
      "    name: denisd-lab\n",
      "reprocess_spec: until_success\n",
      "salt: 1918f22cdfa8473e8224c92b96f86136\n",
      "transform:\n",
      "  cmd:\n",
      "    - python3\n",
      "    - /video_mp4_converter.py\n",
      "    - --input\n",
      "    - /pfs/raw_videos_and_images/\n",
      "    - --output\n",
      "    - /pfs/out/\n",
      "  image: lbliii/video_mp4_converter:1.0.14\n"
     ]
    }
   ],
   "source": [
    "!pachctl list pipeline --spec --output yaml # gives the entire list of pipelines, corresponds to the latest commit by default"
   ]
  },
  {
   "cell_type": "code",
   "execution_count": 27,
   "id": "8f15bc65-5ab6-408b-921a-cbf9da1f7cfe",
   "metadata": {
    "collapsed": true,
    "jupyter": {
     "outputs_hidden": true
    },
    "tags": []
   },
   "outputs": [
    {
     "name": "stdout",
     "output_type": "stream",
     "text": [
      "ID: cc2e3d1fcf854480895af487a27a0714\n",
      "Pipeline: video_mp4_converter\n",
      "Project: denisd-lab\n",
      "Started: 11 minutes ago \n",
      "Duration: 2 seconds \n",
      "State: \u001b[32msuccess\u001b[0m\n",
      "Reason: \n",
      "Processed: 0\n",
      "Failed: 0\n",
      "Skipped: 2\n",
      "Recovered: 0\n",
      "Total: 2\n",
      "Data Downloaded: 0B\n",
      "Data Uploaded: 0B\n",
      "Download Time: Less than a second\n",
      "Process Time: Less than a second\n",
      "Upload Time: Less than a second\n",
      "Datum Timeout: <nil>\n",
      "Job Timeout: <nil>\n",
      "Worker Status:\n",
      "WORKER              JOB                 DATUM               STARTED             \n",
      "Restarts: 0\n",
      "ParallelismSpec: <nil>\n",
      "Input: {\n",
      "  \"pfs\": {\n",
      "    \"project\": \"denisd-lab\",\n",
      "    \"name\": \"raw_videos_and_images\",\n",
      "    \"repo\": \"raw_videos_and_images\",\n",
      "    \"repo_type\": \"user\",\n",
      "    \"branch\": \"master\",\n",
      "    \"commit\": \"cc2e3d1fcf854480895af487a27a0714\",\n",
      "    \"glob\": \"/*.MOV\"\n",
      "  }\n",
      "}\n",
      "Transform: {\n",
      "  \"image\": \"lbliii/video_mp4_converter:1.0.14\",\n",
      "  \"cmd\": [\n",
      "    \"python3\",\n",
      "    \"/video_mp4_converter.py\",\n",
      "    \"--input\",\n",
      "    \"/pfs/raw_videos_and_images/\",\n",
      "    \"--output\",\n",
      "    \"/pfs/out/\"\n",
      "  ]\n",
      "} \n",
      "Output Commit: cc2e3d1fcf854480895af487a27a0714 \n"
     ]
    }
   ],
   "source": [
    "!pachctl inspect job video_mp4_converter@cc2e3d1fcf854480895af487a27a0714  # add a job id to inspect the job"
   ]
  },
  {
   "cell_type": "code",
   "execution_count": 28,
   "id": "33fb0f85-16d9-4b5c-aa1a-5df11e3bf6f5",
   "metadata": {
    "collapsed": true,
    "jupyter": {
     "outputs_hidden": true
    },
    "tags": []
   },
   "outputs": [
    {
     "name": "stdout",
     "output_type": "stream",
     "text": [
      "OpenCV: FFMPEG: tag 0x44495658/'XVID' is not supported with codec id 12 and format 'mp4 / MP4 (MPEG-4 Part 14)'\n",
      "OpenCV: FFMPEG: fallback to use tag 0x7634706d/'mp4v'\n",
      "Input: /pfs/raw_videos_and_images/\n",
      "Output: /pfs/out/\n",
      "======================\n",
      "Converting video: /pfs/raw_videos_and_images/cat-sleeping.MOV\n",
      "Converted 154 frames\n",
      "Converted: cat-sleeping.MOV to /pfs/out/cat-sleeping.mp4\n",
      "OpenCV: FFMPEG: tag 0x44495658/'XVID' is not supported with codec id 12 and format 'mp4 / MP4 (MPEG-4 Part 14)'\n",
      "OpenCV: FFMPEG: fallback to use tag 0x7634706d/'mp4v'\n",
      "Input: /pfs/raw_videos_and_images/\n",
      "Output: /pfs/out/\n",
      "======================\n",
      "Converting video: /pfs/raw_videos_and_images/highway.MOV\n",
      "Converted 156 frames\n",
      "Converted: highway.MOV to /pfs/out/highway.mp4\n",
      "Input: /pfs/raw_videos_and_images/\n",
      "Output: /pfs/out/\n",
      "======================\n",
      "Skipping: /pfs/raw_videos_and_images/liberty.png\n",
      "Input: /pfs/raw_videos_and_images/\n",
      "Output: /pfs/out/\n",
      "======================\n",
      "Skipping: /pfs/raw_videos_and_images/robot.png\n"
     ]
    }
   ],
   "source": [
    "!pachctl logs --pipeline video_mp4_converter # should be empty as datums were skipped when updating the pipeline spec"
   ]
  },
  {
   "cell_type": "code",
   "execution_count": 30,
   "id": "96aa6a9f-9b6b-457e-af5b-13e7e2364ffa",
   "metadata": {
    "collapsed": true,
    "jupyter": {
     "outputs_hidden": true
    },
    "tags": []
   },
   "outputs": [
    {
     "name": "stdout",
     "output_type": "stream",
     "text": [
      "OpenCV: FFMPEG: tag 0x44495658/'XVID' is not supported with codec id 12 and format 'mp4 / MP4 (MPEG-4 Part 14)'\n",
      "OpenCV: FFMPEG: fallback to use tag 0x7634706d/'mp4v'\n",
      "Input: /pfs/raw_videos_and_images/\n",
      "Output: /pfs/out/\n",
      "======================\n",
      "Converting video: /pfs/raw_videos_and_images/cat-sleeping.MOV\n",
      "Converted 154 frames\n",
      "Converted: cat-sleeping.MOV to /pfs/out/cat-sleeping.mp4\n",
      "OpenCV: FFMPEG: tag 0x44495658/'XVID' is not supported with codec id 12 and format 'mp4 / MP4 (MPEG-4 Part 14)'\n",
      "OpenCV: FFMPEG: fallback to use tag 0x7634706d/'mp4v'\n",
      "Input: /pfs/raw_videos_and_images/\n",
      "Output: /pfs/out/\n",
      "======================\n",
      "Converting video: /pfs/raw_videos_and_images/highway.MOV\n",
      "Converted 156 frames\n",
      "Converted: highway.MOV to /pfs/out/highway.mp4\n",
      "Input: /pfs/raw_videos_and_images/\n",
      "Output: /pfs/out/\n",
      "======================\n",
      "Skipping: /pfs/raw_videos_and_images/liberty.png\n",
      "Input: /pfs/raw_videos_and_images/\n",
      "Output: /pfs/out/\n",
      "======================\n",
      "Skipping: /pfs/raw_videos_and_images/robot.png\n"
     ]
    }
   ],
   "source": [
    "!pachctl logs --job video_mp4_converter@217694b51c444890929bc6d1d953d47d  # add a job id to get logs from the job"
   ]
  },
  {
   "cell_type": "markdown",
   "id": "3da6e9bf-3f89-419b-83f8-5437df458c0c",
   "metadata": {},
   "source": [
    "# Updating the video mp4 converter pipeline and reprocess your datums"
   ]
  },
  {
   "cell_type": "code",
   "execution_count": null,
   "id": "7c5047b2-fb1a-4c15-a7b8-7153576f6152",
   "metadata": {},
   "outputs": [],
   "source": [
    "!pachctl update pipeline -f video_mp4_converter.yaml --reprocess"
   ]
  },
  {
   "cell_type": "markdown",
   "id": "f37a7d29-c417-401d-99f8-1a4cd422fc76",
   "metadata": {},
   "source": [
    "# Creating the image flattener pipeline"
   ]
  },
  {
   "cell_type": "code",
   "execution_count": 31,
   "id": "76e26c94-bf5f-4a4d-a834-5f4caa39958b",
   "metadata": {},
   "outputs": [
    {
     "name": "stdout",
     "output_type": "stream",
     "text": [
      "pipeline:\n",
      "  name: image_flattener\n",
      "input:\n",
      "  pfs:\n",
      "    repo: video_mp4_converter\n",
      "    glob: \"/*\"\n",
      "transform:\n",
      "  image: lbliii/image_flattener:1.0.0\n",
      "  cmd:\n",
      "    - python3\n",
      "    - /image_flattener.py\n",
      "    - --input\n",
      "    - /pfs/video_mp4_converter\n",
      "    - --output\n",
      "    - /pfs/out/\n",
      "autoscaling: true\n"
     ]
    }
   ],
   "source": [
    "!cat image_flattener.yaml "
   ]
  },
  {
   "cell_type": "code",
   "execution_count": 32,
   "id": "768c0879-3b20-4f55-b1ce-dd5d5bf7b1a0",
   "metadata": {},
   "outputs": [],
   "source": [
    "!pachctl create pipeline -f image_flattener.yaml"
   ]
  },
  {
   "cell_type": "code",
   "execution_count": 33,
   "id": "a2e3b6a1-8607-4e46-857f-29728a02b40e",
   "metadata": {},
   "outputs": [
    {
     "name": "stdout",
     "output_type": "stream",
     "text": [
      "autoscaling: true\n",
      "datum_tries: \"3\"\n",
      "input:\n",
      "  pfs:\n",
      "    branch: master\n",
      "    glob: /*\n",
      "    name: video_mp4_converter\n",
      "    project: denisd-lab\n",
      "    repo: video_mp4_converter\n",
      "    repo_type: user\n",
      "output_branch: master\n",
      "pipeline:\n",
      "  name: image_flattener\n",
      "  project:\n",
      "    name: denisd-lab\n",
      "reprocess_spec: until_success\n",
      "salt: 047f8a49439146088e031f6517cdb91f\n",
      "transform:\n",
      "  cmd:\n",
      "    - python3\n",
      "    - /image_flattener.py\n",
      "    - --input\n",
      "    - /pfs/video_mp4_converter\n",
      "    - --output\n",
      "    - /pfs/out/\n",
      "  image: lbliii/image_flattener:1.0.0\n",
      "---\n",
      "autoscaling: true\n",
      "datum_tries: \"3\"\n",
      "input:\n",
      "  pfs:\n",
      "    branch: master\n",
      "    glob: /*.MOV\n",
      "    name: raw_videos_and_images\n",
      "    project: denisd-lab\n",
      "    repo: raw_videos_and_images\n",
      "    repo_type: user\n",
      "output_branch: master\n",
      "pipeline:\n",
      "  name: video_mp4_converter\n",
      "  project:\n",
      "    name: denisd-lab\n",
      "reprocess_spec: until_success\n",
      "salt: 1918f22cdfa8473e8224c92b96f86136\n",
      "transform:\n",
      "  cmd:\n",
      "    - python3\n",
      "    - /video_mp4_converter.py\n",
      "    - --input\n",
      "    - /pfs/raw_videos_and_images/\n",
      "    - --output\n",
      "    - /pfs/out/\n",
      "  image: lbliii/video_mp4_converter:1.0.14\n"
     ]
    }
   ],
   "source": [
    "!pachctl list pipeline --spec --output yaml"
   ]
  },
  {
   "cell_type": "markdown",
   "id": "3dc3b061-6a23-4728-a99e-696555260948",
   "metadata": {},
   "source": [
    "# Create the image tracer pipeline"
   ]
  },
  {
   "cell_type": "code",
   "execution_count": 34,
   "id": "094089c2-3adb-4b90-af6d-8358139b3b7c",
   "metadata": {},
   "outputs": [
    {
     "name": "stdout",
     "output_type": "stream",
     "text": [
      "pipeline:\n",
      "  name: image_tracer\n",
      "description: A pipeline that performs image edge detection by using the OpenCV library.\n",
      "input:\n",
      "  union:\n",
      "    - pfs:\n",
      "        repo: raw_videos_and_images\n",
      "        glob: \"/*.{png,jpg,jpeg}\"\n",
      "    - pfs:\n",
      "        repo: image_flattener\n",
      "        glob: \"/*\"\n",
      "transform:\n",
      "  image: lbliii/image_tracer:1.0.8\n",
      "  cmd:\n",
      "    - python3\n",
      "    - /image_tracer.py\n",
      "    - --input\n",
      "    - /pfs/raw_videos_and_images\n",
      "    - /pfs/image_flattener\n",
      "    - --output\n",
      "    - /pfs/out/\n",
      "autoscaling: true\n"
     ]
    }
   ],
   "source": [
    "!cat image_tracer.yaml"
   ]
  },
  {
   "cell_type": "code",
   "execution_count": 35,
   "id": "7af3e4b6-14fc-43a6-8186-b23d04ffbe5f",
   "metadata": {},
   "outputs": [
    {
     "name": "stdout",
     "output_type": "stream",
     "text": [
      "ID                                                               FILES                                                                          STATUS TIME               \n",
      "34c72adefd73aa41cf20fc4003532c1a29c16b02433c492de9a8dc2422d19695 denisd-lab/raw_videos_and_images@4bf1694b1d9e422dbe13ed103c82f1f1:/robot.png   \u001b[32m-\u001b[0m      Less than a second \n",
      "48445a6c755bacf3baf96b9be9cf0634f18d09e3daae8b672ef4cc5509df4ae3 denisd-lab/raw_videos_and_images@4bf1694b1d9e422dbe13ed103c82f1f1:/liberty.png \u001b[32m-\u001b[0m      Less than a second \n",
      "766def4e90afaff44c357f0920c1188468628b535e261a95897459712c8b2af1 denisd-lab/image_flattener@a228fa11a14641859fdff081208bc289:/highway/          \u001b[32m-\u001b[0m      Less than a second \n",
      "96d411d2e0f6da9286417116436df4bb5d507046f788d0b3930ba51b4a36c41b denisd-lab/image_flattener@a228fa11a14641859fdff081208bc289:/cat-sleeping/     \u001b[32m-\u001b[0m      Less than a second \n"
     ]
    }
   ],
   "source": [
    "!pachctl list datum -f image_tracer.yaml"
   ]
  },
  {
   "cell_type": "code",
   "execution_count": 38,
   "id": "1f0bb40b-cc58-4ab8-846e-aee6df8afed8",
   "metadata": {},
   "outputs": [],
   "source": [
    "!pachctl create pipeline -f image_tracer.yaml"
   ]
  },
  {
   "cell_type": "markdown",
   "id": "d29993a6-182b-448d-8158-bfc695e3252c",
   "metadata": {},
   "source": [
    "# Create the movie gifer pipeline"
   ]
  },
  {
   "cell_type": "code",
   "execution_count": 36,
   "id": "fac0e0d1-2211-4b49-8c44-74a7a7ea6735",
   "metadata": {},
   "outputs": [
    {
     "name": "stdout",
     "output_type": "stream",
     "text": [
      "pipeline:\n",
      "  name: movie_gifer\n",
      "description: A pipeline that converts frames into a gif using the OpenCV library.\n",
      "input:\n",
      "  union:\n",
      "    - pfs:\n",
      "        repo: image_flattener\n",
      "        glob: \"/*/\"\n",
      "    - pfs:\n",
      "        repo: image_tracer\n",
      "        glob: \"/*/\"\n",
      "transform:\n",
      "  image: lbliii/movie_gifer:1.0.5\n",
      "  cmd:\n",
      "    - python3\n",
      "    - /movie_gifer.py\n",
      "    - --input\n",
      "    - /pfs/image_flattener\n",
      "    - /pfs/image_tracer\n",
      "    - --output\n",
      "    - /pfs/out/\n",
      "autoscaling: true\n"
     ]
    }
   ],
   "source": [
    "!cat movie_gifer.yaml"
   ]
  },
  {
   "cell_type": "code",
   "execution_count": 39,
   "id": "a38d2898-3c47-4ead-a011-76f27a84cf61",
   "metadata": {},
   "outputs": [
    {
     "name": "stdout",
     "output_type": "stream",
     "text": [
      "ID                                                               FILES                                                                       STATUS TIME               \n",
      "0b50bf7740d03bd95f7afdcda92d4e29505cc375224a09bd0b0cb44e17986f02 denisd-lab/image_tracer@dfc0fe66675541328a0ce8a0ee27a2e8:/cat-sleeping/     \u001b[32m-\u001b[0m      Less than a second \n",
      "61130e22df8ad523c2fa09a2ef8d6063806628c2e6ab5ba9ef52f0a288307632 denisd-lab/image_tracer@dfc0fe66675541328a0ce8a0ee27a2e8:/liberty_edges.png \u001b[32m-\u001b[0m      Less than a second \n",
      "766def4e90afaff44c357f0920c1188468628b535e261a95897459712c8b2af1 denisd-lab/image_flattener@a228fa11a14641859fdff081208bc289:/highway/       \u001b[32m-\u001b[0m      Less than a second \n",
      "96d411d2e0f6da9286417116436df4bb5d507046f788d0b3930ba51b4a36c41b denisd-lab/image_flattener@a228fa11a14641859fdff081208bc289:/cat-sleeping/  \u001b[32m-\u001b[0m      Less than a second \n",
      "c43349b0763d690c1143777ffe6167e1ea3804384213bd4910d9ecc8359a8b78 denisd-lab/image_tracer@dfc0fe66675541328a0ce8a0ee27a2e8:/highway/          \u001b[32m-\u001b[0m      Less than a second \n",
      "c80bc94ff21fd4fbb2f0bb43691cf10232c13e2c1d28cff649161c0b0db60242 denisd-lab/image_tracer@dfc0fe66675541328a0ce8a0ee27a2e8:/robot_edges.png   \u001b[32m-\u001b[0m      Less than a second \n"
     ]
    }
   ],
   "source": [
    "!pachctl list datum -f movie_gifer.yaml"
   ]
  },
  {
   "cell_type": "code",
   "execution_count": 40,
   "id": "2579dc79-4f04-4e43-a185-d592a16b7a9f",
   "metadata": {},
   "outputs": [],
   "source": [
    "!pachctl create pipeline -f movie_gifer.yaml # will take a few minutes to run"
   ]
  },
  {
   "cell_type": "markdown",
   "id": "b4ef10be-2eaa-40eb-9323-8a0f1c55ea45",
   "metadata": {},
   "source": [
    "# Create the content shuffler pipeline"
   ]
  },
  {
   "cell_type": "code",
   "execution_count": 41,
   "id": "554f405a-5acb-4721-ac43-10f32f0471d3",
   "metadata": {},
   "outputs": [
    {
     "name": "stdout",
     "output_type": "stream",
     "text": [
      "pipeline:\n",
      "  name: content_shuffler\n",
      "  description: A pipeline that collapses our inputs into one datum for the collager.\n",
      "input:\n",
      "  union:\n",
      "    - pfs:\n",
      "        repo: movie_gifer\n",
      "        glob: \"/\"\n",
      "    - pfs:\n",
      "        repo: raw_videos_and_images\n",
      "        glob: \"/*.{png,jpg,jpeg}\"\n",
      "    - pfs:\n",
      "        repo: image_tracer\n",
      "        glob: \"/*.{png,jpg,jpeg}\"\n",
      "\n",
      "transform:\n",
      "  image: lbliii/content_shuffler:1.0.0\n",
      "  cmd:\n",
      "    - python3\n",
      "    - /content_shuffler.py\n",
      "    - --input\n",
      "    - /pfs/movie_gifer\n",
      "    - /pfs/raw_videos_and_images\n",
      "    - /pfs/image_tracer\n",
      "    - --output\n",
      "    - /pfs/out/\n",
      "autoscaling: true\n"
     ]
    }
   ],
   "source": [
    "!cat content_shuffler.yaml"
   ]
  },
  {
   "cell_type": "code",
   "execution_count": 42,
   "id": "bd9a001b-de55-4254-b633-1093803efd1e",
   "metadata": {},
   "outputs": [
    {
     "name": "stdout",
     "output_type": "stream",
     "text": [
      "ID                                                               FILES                                                                          STATUS TIME               \n",
      "34c72adefd73aa41cf20fc4003532c1a29c16b02433c492de9a8dc2422d19695 denisd-lab/raw_videos_and_images@4bf1694b1d9e422dbe13ed103c82f1f1:/robot.png   \u001b[32m-\u001b[0m      Less than a second \n",
      "48445a6c755bacf3baf96b9be9cf0634f18d09e3daae8b672ef4cc5509df4ae3 denisd-lab/raw_videos_and_images@4bf1694b1d9e422dbe13ed103c82f1f1:/liberty.png \u001b[32m-\u001b[0m      Less than a second \n",
      "61130e22df8ad523c2fa09a2ef8d6063806628c2e6ab5ba9ef52f0a288307632 denisd-lab/image_tracer@dfc0fe66675541328a0ce8a0ee27a2e8:/liberty_edges.png    \u001b[32m-\u001b[0m      Less than a second \n",
      "a33c434dbeb637c2c068c55dcfb8c91511bd433cf6b949993cc4933d937f105b denisd-lab/movie_gifer@fd587560d6db476ebf68da6e81960a5d:/                      \u001b[32m-\u001b[0m      Less than a second \n",
      "c80bc94ff21fd4fbb2f0bb43691cf10232c13e2c1d28cff649161c0b0db60242 denisd-lab/image_tracer@dfc0fe66675541328a0ce8a0ee27a2e8:/robot_edges.png      \u001b[32m-\u001b[0m      Less than a second \n"
     ]
    }
   ],
   "source": [
    "!pachctl list datum -f content_shuffler.yaml"
   ]
  },
  {
   "cell_type": "code",
   "execution_count": 43,
   "id": "5c61938d-59ff-4906-abc2-fc59d3efed8e",
   "metadata": {},
   "outputs": [],
   "source": [
    "!pachctl create pipeline -f content_shuffler.yaml"
   ]
  },
  {
   "cell_type": "markdown",
   "id": "28ef2487-1aa5-4beb-be2e-b9829cf3f60b",
   "metadata": {},
   "source": [
    "# Create the content collager pipeline"
   ]
  },
  {
   "cell_type": "code",
   "execution_count": 44,
   "id": "e753b146-fc5a-4967-944f-2a9edf2d9698",
   "metadata": {},
   "outputs": [
    {
     "name": "stdout",
     "output_type": "stream",
     "text": [
      "pipeline:\n",
      "  name: content_collager\n",
      "  description: A pipeline that creates a static HTML collage.\n",
      "input:\n",
      "  pfs:\n",
      "    glob: \"/\"\n",
      "    repo: content_shuffler\n",
      "\n",
      "\n",
      "transform:\n",
      "  image: lbliii/content_collager:1.0.64\n",
      "  cmd:\n",
      "    - python3\n",
      "    - /content_collager.py\n",
      "    - --input\n",
      "    - /pfs/content_shuffler\n",
      "    - --output\n",
      "    - /pfs/out/\n",
      "autoscaling: true\n"
     ]
    }
   ],
   "source": [
    "!cat content_collager.yaml"
   ]
  },
  {
   "cell_type": "code",
   "execution_count": 45,
   "id": "a1b204b7-2acf-4305-9c7a-fa137560d9fb",
   "metadata": {},
   "outputs": [
    {
     "name": "stdout",
     "output_type": "stream",
     "text": [
      "ID                                                               FILES                                                          STATUS TIME               \n",
      "d426c304cd626dbb5bc09e228acd5d90be2b7faf396867ae381b91244ebe4c8c denisd-lab/content_shuffler@50a7eda1d6cf4e818284782058f77986:/ \u001b[32m-\u001b[0m      Less than a second \n"
     ]
    }
   ],
   "source": [
    "!pachctl list datum -f content_collager.yaml"
   ]
  },
  {
   "cell_type": "code",
   "execution_count": 46,
   "id": "88bb7130-6677-43dc-bd47-cde6562e9e40",
   "metadata": {},
   "outputs": [],
   "source": [
    "!pachctl create pipeline -f content_collager.yaml"
   ]
  },
  {
   "cell_type": "markdown",
   "id": "4ed19e5b-6750-47a0-b7a5-fcf90ddb9ae6",
   "metadata": {},
   "source": [
    " "
   ]
  },
  {
   "cell_type": "markdown",
   "id": "73192af9-465c-4ca9-be66-6e5f90453991",
   "metadata": {},
   "source": [
    "# Create the apache serving pipeline"
   ]
  },
  {
   "cell_type": "code",
   "execution_count": 47,
   "id": "d2d7c572-c20f-4690-9d27-173d5af57110",
   "metadata": {},
   "outputs": [
    {
     "name": "stdout",
     "output_type": "stream",
     "text": [
      "{\n",
      "  \"pipeline\": { \"name\": \"apache_serve\"},\n",
      "  \"description\": \"Serve HTML Page on Apache\",\n",
      "  \"transform\": {\n",
      "    \"cmd\": [\"/bin/sh\"],\n",
      "    \"stdin\": [\"cp -r /pfs/in/* /usr/local/apache2/htdocs/\"],\n",
      "    \"image\": \"httpd:2.4\"\n",
      "  },\n",
      "  \"input\": {\n",
      "    \"pfs\": {\n",
      "      \"name\": \"in\",\n",
      "      \"repo\": \"content_collager\",\n",
      "      \"branch\": \"master\",\n",
      "      \"glob\": \"/\"\n",
      "    }\n",
      "  },\n",
      "  \"service\": {\n",
      "    \"external_port\" : 8080,\n",
      "    \"internal_port\" : 80,\n",
      "    \"type\" : \"LoadBalancer\"\n",
      "  },\n",
      "  \"parallelism_spec\" : {\"constant\": 1}\n",
      "}"
     ]
    }
   ],
   "source": [
    "!cat apache_serve.yaml"
   ]
  },
  {
   "cell_type": "code",
   "execution_count": 48,
   "id": "8dece166-ae40-4a3e-8e45-38b0ada86fae",
   "metadata": {},
   "outputs": [
    {
     "name": "stdout",
     "output_type": "stream",
     "text": [
      "ID                                                               FILES                                                          STATUS TIME               \n",
      "2ecb4c4b1e919d7efe4841d236aaac69d97ce4c5962b1fd96cd103dfc134b20a denisd-lab/content_collager@7bb280219c0944a1bc92602bd651f37f:/ \u001b[32m-\u001b[0m      Less than a second \n"
     ]
    }
   ],
   "source": [
    "!pachctl list datum -f apache_serve.yaml"
   ]
  },
  {
   "cell_type": "code",
   "execution_count": 57,
   "id": "9dce04e0-9970-45c6-8f28-5681d8fcd47d",
   "metadata": {},
   "outputs": [],
   "source": [
    "!pachctl create pipeline -f apache_serve.yaml"
   ]
  },
  {
   "cell_type": "markdown",
   "id": "b2de4be1-0b19-4ce4-b3ec-8e3d692f6eb7",
   "metadata": {},
   "source": [
    "# Branches"
   ]
  },
  {
   "cell_type": "markdown",
   "id": "4fabd971-252e-4d7a-b694-cd2ced422241",
   "metadata": {},
   "source": [
    "## Create a new branch, and have it identical to master"
   ]
  },
  {
   "cell_type": "code",
   "execution_count": 50,
   "id": "d09a1a88-a774-4921-aab6-6b8ff798371a",
   "metadata": {},
   "outputs": [
    {
     "name": "stdout",
     "output_type": "stream",
     "text": [
      "BRANCH HEAD                             TRIGGER \n",
      "master 4bf1694b1d9e422dbe13ed103c82f1f1 -       \n"
     ]
    }
   ],
   "source": [
    "!pachctl list branch raw_videos_and_images"
   ]
  },
  {
   "cell_type": "code",
   "execution_count": 51,
   "id": "28a00440-5a78-44f4-b62a-089a8992dfd7",
   "metadata": {},
   "outputs": [],
   "source": [
    "!pachctl create branch raw_videos_and_images@new-branch # empty branch"
   ]
  },
  {
   "cell_type": "code",
   "execution_count": 52,
   "id": "2ed9ba44-5d3a-49fe-840f-d1089a35f651",
   "metadata": {},
   "outputs": [
    {
     "name": "stdout",
     "output_type": "stream",
     "text": [
      "BRANCH     HEAD                             TRIGGER \n",
      "new-branch f82f22f9db9d42459f3adafaa5d53c8c -       \n",
      "master     4bf1694b1d9e422dbe13ed103c82f1f1 -       \n"
     ]
    }
   ],
   "source": [
    "!pachctl list branch raw_videos_and_images"
   ]
  },
  {
   "cell_type": "code",
   "execution_count": 53,
   "id": "c8b8e5c2-16de-4425-921c-9289f6ec8da1",
   "metadata": {},
   "outputs": [],
   "source": [
    "!pachctl create branch raw_videos_and_images@new-branch --head raw_videos_and_images@master # new-branch will be identical to master"
   ]
  },
  {
   "cell_type": "code",
   "execution_count": 54,
   "id": "cddc6d29-8fc3-44a5-8e83-e8f61b4d0b93",
   "metadata": {},
   "outputs": [
    {
     "name": "stdout",
     "output_type": "stream",
     "text": [
      "BRANCH     HEAD                             TRIGGER \n",
      "new-branch 4bf1694b1d9e422dbe13ed103c82f1f1 -       \n",
      "master     4bf1694b1d9e422dbe13ed103c82f1f1 -       \n"
     ]
    }
   ],
   "source": [
    "!pachctl list branch raw_videos_and_images"
   ]
  },
  {
   "cell_type": "markdown",
   "id": "0c960c4a-8cb9-4fec-a424-2c4615e2422b",
   "metadata": {},
   "source": [
    "## Update the new branch"
   ]
  },
  {
   "cell_type": "code",
   "execution_count": 55,
   "id": "565f6167-9c94-497a-bcc9-b6d66c6c5562",
   "metadata": {},
   "outputs": [
    {
     "name": "stdout",
     "output_type": "stream",
     "text": [
      "files/robot(1).jpg 123.23 KB / 123.23 KB [=========================] 0s 0.00 b/s\n",
      "\u001b[1A\u001b[Jfiles/robot(1).jpg 123.23 KB / 123.23 KB [=========================] 0s 0.00 b/s\n",
      "\u001b[1A\u001b[Jfiles/robot(1).jpg 123.23 KB / 123.23 KB [=========================] 0s 0.00 b/s\n"
     ]
    }
   ],
   "source": [
    "!pachctl put file raw_videos_and_images@new-branch:robot1.png -f \"files/robot(1).jpg\""
   ]
  },
  {
   "cell_type": "markdown",
   "id": "2a729432-4592-4b8e-b2f2-7b9655bf18a2",
   "metadata": {},
   "source": [
    "## Create a pipeline independent from master"
   ]
  },
  {
   "cell_type": "code",
   "execution_count": 58,
   "id": "c4a55a00-f94f-42a4-b834-bbf0269a658b",
   "metadata": {},
   "outputs": [
    {
     "name": "stdout",
     "output_type": "stream",
     "text": [
      "pipeline:\n",
      "  name: new-branch_image_tracer\n",
      "description: A pipeline that performs image edge detection by using the OpenCV library.\n",
      "input:\n",
      "  pfs:\n",
      "    repo: raw_videos_and_images\n",
      "    glob: \"/*.{png,jpg,jpeg}\"\n",
      "    branch: \"new-branch\"\n",
      "transform:\n",
      "  image: lbliii/image_tracer:1.0.8\n",
      "  cmd:\n",
      "    - python3\n",
      "    - /image_tracer.py\n",
      "    - --input\n",
      "    - /pfs/raw_videos_and_images\n",
      "    - --output\n",
      "    - /pfs/out/\n",
      "autoscaling: true\n",
      "output_branch: \"new-branch\"\n"
     ]
    }
   ],
   "source": [
    "!cat new-branch_image_tracer.yaml"
   ]
  },
  {
   "cell_type": "code",
   "execution_count": 60,
   "id": "0e97d161-edc8-4437-84ea-cfaff32f652b",
   "metadata": {},
   "outputs": [
    {
     "name": "stdout",
     "output_type": "stream",
     "text": [
      "ID                                                               FILES                                                                          STATUS TIME               \n",
      "326dbd01a23fa9437ea3dfd3a8859495a8e3ac6e4aa5e127450e3d0c953bfce2 denisd-lab/raw_videos_and_images@6bbf1990fc3f46dcb63534da131c5d12:/liberty.png \u001b[32m-\u001b[0m      Less than a second \n",
      "88c2d6d260ff8c4a4ba3e21a97bdf628fbbaa1a6d088c500a7d3c11077255366 denisd-lab/raw_videos_and_images@6bbf1990fc3f46dcb63534da131c5d12:/robot1.png  \u001b[32m-\u001b[0m      Less than a second \n",
      "d49c6cbdbff2f1c2aabda69b0556eaf721764d9af6a172290e8fa33dcd9fa551 denisd-lab/raw_videos_and_images@6bbf1990fc3f46dcb63534da131c5d12:/robot.png   \u001b[32m-\u001b[0m      Less than a second \n"
     ]
    }
   ],
   "source": [
    "!pachctl list datum -f new-branch_image_tracer.yaml"
   ]
  },
  {
   "cell_type": "code",
   "execution_count": 61,
   "id": "7d99522a-66e5-4244-a063-a124b0b5b012",
   "metadata": {},
   "outputs": [],
   "source": [
    "!pachctl create pipeline -f new-branch_image_tracer.yaml"
   ]
  },
  {
   "cell_type": "markdown",
   "id": "b6c15d40-9e04-4ec7-9574-42356cbbc81e",
   "metadata": {},
   "source": [
    "## Update the master branch using the new branch"
   ]
  },
  {
   "cell_type": "code",
   "execution_count": null,
   "id": "8a9b65ff-8639-4e60-8736-c5e14f54c329",
   "metadata": {},
   "outputs": [],
   "source": [
    "!pachctl create branch raw_videos_and_images@master --head raw_videos_and_images@new-branch"
   ]
  },
  {
   "cell_type": "markdown",
   "id": "36d0d81e-1be5-4fd4-bfd9-4a67448985a6",
   "metadata": {},
   "source": [
    "## Roll back the master branch"
   ]
  },
  {
   "cell_type": "code",
   "execution_count": 62,
   "id": "803f056f-8a8d-4b48-b4f4-3e65b1f59f15",
   "metadata": {},
   "outputs": [],
   "source": [
    "!pachctl create branch raw_videos_and_images@master --head raw_videos_and_images@master^"
   ]
  },
  {
   "cell_type": "code",
   "execution_count": 63,
   "id": "0fb1e7b6-f6c3-4ad0-a195-aa09666a9ced",
   "metadata": {},
   "outputs": [],
   "source": [
    "!pachctl delete pipeline new-branch_image_tracer\n",
    "!pachctl delete branch raw_videos_and_images@new-branch"
   ]
  },
  {
   "cell_type": "markdown",
   "id": "ce34b371-9a96-44ec-a795-b78e03fffef4",
   "metadata": {},
   "source": [
    "# Triggers"
   ]
  },
  {
   "cell_type": "markdown",
   "id": "a6601147-843c-44a8-9791-6879ee0caa30",
   "metadata": {},
   "source": [
    "## Create a trigger"
   ]
  },
  {
   "cell_type": "code",
   "execution_count": 64,
   "id": "8826b1fb-b08b-40ab-ad25-94570a2b2ed4",
   "metadata": {},
   "outputs": [],
   "source": [
    "!pachctl create branch raw_videos_and_images@staging --head master"
   ]
  },
  {
   "cell_type": "code",
   "execution_count": 65,
   "id": "3af4f8f3-d74b-432b-a5cb-045b1a6aa30a",
   "metadata": {},
   "outputs": [
    {
     "name": "stdout",
     "output_type": "stream",
     "text": [
      "BRANCH  HEAD                             TRIGGER \n",
      "staging e9cf39575158423298cb8b5541ff5caf -       \n",
      "master  e9cf39575158423298cb8b5541ff5caf -       \n"
     ]
    }
   ],
   "source": [
    "!pachctl list branch raw_videos_and_images"
   ]
  },
  {
   "cell_type": "code",
   "execution_count": 66,
   "id": "41a37f5a-3d6f-4255-acf9-5600fda76940",
   "metadata": {},
   "outputs": [],
   "source": [
    "!pachctl create branch raw_videos_and_images@master --trigger staging --trigger-commits=3"
   ]
  },
  {
   "cell_type": "code",
   "execution_count": 67,
   "id": "1005bbfb-dc18-4317-b041-14cb5e986c28",
   "metadata": {},
   "outputs": [
    {
     "name": "stdout",
     "output_type": "stream",
     "text": [
      "BRANCH  HEAD                             TRIGGER               \n",
      "staging e9cf39575158423298cb8b5541ff5caf -                     \n",
      "master  e9cf39575158423298cb8b5541ff5caf staging on Commits(3) \n"
     ]
    }
   ],
   "source": [
    "!pachctl list branch raw_videos_and_images"
   ]
  },
  {
   "cell_type": "markdown",
   "id": "3a422494-5ac6-4b47-ae96-1a77dc6e7dd1",
   "metadata": {},
   "source": [
    "## Test the trigger"
   ]
  },
  {
   "cell_type": "code",
   "execution_count": 68,
   "id": "b01f367d-c101-480d-953c-6bcb3d74332b",
   "metadata": {},
   "outputs": [
    {
     "name": "stdout",
     "output_type": "stream",
     "text": [
      "files/robot(1).jpg 123.23 KB / 123.23 KB [=========================] 0s 0.00 b/s\n",
      "\u001b[1A\u001b[Jfiles/robot(1).jpg 123.23 KB / 123.23 KB [=========================] 0s 0.00 b/s\n"
     ]
    }
   ],
   "source": [
    "!pachctl put file raw_videos_and_images@staging:robot1.png -f \"files/robot(1).jpg\""
   ]
  },
  {
   "cell_type": "code",
   "execution_count": 69,
   "id": "f79c9510-50ba-472a-8f0f-291ee95c01bf",
   "metadata": {},
   "outputs": [
    {
     "name": "stdout",
     "output_type": "stream",
     "text": [
      "files/robot(2).jpg 123.23 KB / 123.23 KB [=========================] 0s 0.00 b/s\n",
      "\u001b[1A\u001b[Jfiles/robot(2).jpg 123.23 KB / 123.23 KB [=========================] 0s 0.00 b/s\n",
      "\u001b[1A\u001b[Jfiles/robot(2).jpg 123.23 KB / 123.23 KB [=========================] 0s 0.00 b/s\n"
     ]
    }
   ],
   "source": [
    "!pachctl put file raw_videos_and_images@staging:robot2.png -f \"files/robot(2).jpg\""
   ]
  },
  {
   "cell_type": "code",
   "execution_count": 70,
   "id": "cad93592-f9db-4bc7-a27f-21e2c5d9a185",
   "metadata": {},
   "outputs": [
    {
     "name": "stdout",
     "output_type": "stream",
     "text": [
      "files/robot(3).jpg 123.23 KB / 123.23 KB [=========================] 0s 0.00 b/s\n",
      "\u001b[1A\u001b[Jfiles/robot(3).jpg 123.23 KB / 123.23 KB [=========================] 0s 0.00 b/s\n",
      "\u001b[1A\u001b[Jfiles/robot(3).jpg 123.23 KB / 123.23 KB [=========================] 0s 0.00 b/s\n"
     ]
    }
   ],
   "source": [
    "!pachctl put file raw_videos_and_images@staging:robot3.png -f \"files/robot(3).jpg\""
   ]
  },
  {
   "cell_type": "markdown",
   "id": "2e545234-02ee-4543-ae65-7fcd80e5df74",
   "metadata": {},
   "source": [
    "# Pachyderm SDK"
   ]
  },
  {
   "cell_type": "markdown",
   "id": "53165fb2-e770-4f7d-bfc1-acbffff42520",
   "metadata": {},
   "source": [
    "## Install the Pachyderm SDK"
   ]
  },
  {
   "cell_type": "code",
   "execution_count": 71,
   "id": "87b38b8a-e508-464c-9f4d-2e0a37d17459",
   "metadata": {},
   "outputs": [
    {
     "name": "stdout",
     "output_type": "stream",
     "text": [
      "Collecting pachyderm_sdk\n",
      "  Obtaining dependency information for pachyderm_sdk from https://files.pythonhosted.org/packages/57/13/ac1bd4e7a10b73c9e0454273fec2a31c94bab4fa1f34ef62dd4820ec2b6c/pachyderm_sdk-2.7.6-py3-none-any.whl.metadata\n",
      "  Downloading pachyderm_sdk-2.7.6-py3-none-any.whl.metadata (4.2 kB)\n",
      "Collecting betterproto==2.0.0b5 (from pachyderm_sdk)\n",
      "  Downloading betterproto-2.0.0b5-py3-none-any.whl (61 kB)\n",
      "\u001b[2K     \u001b[90m━━━━━━━━━━━━━━━━━━━━━━━━━━━━━━━━━━━━━━━━\u001b[0m \u001b[32m61.3/61.3 kB\u001b[0m \u001b[31m5.2 MB/s\u001b[0m eta \u001b[36m0:00:00\u001b[0m\n",
      "\u001b[?25hRequirement already satisfied: certifi>=2022.9 in /opt/conda/lib/python3.8/site-packages (from pachyderm_sdk) (2023.7.22)\n",
      "Collecting grpc-interceptor<0.15.0,>=0.14.2 (from pachyderm_sdk)\n",
      "  Downloading grpc_interceptor-0.14.2-py3-none-any.whl (17 kB)\n",
      "Collecting grpcio<1.52.0,>=1.50.0 (from pachyderm_sdk)\n",
      "  Downloading grpcio-1.51.3-cp38-cp38-manylinux_2_17_x86_64.manylinux2014_x86_64.whl (4.8 MB)\n",
      "\u001b[2K     \u001b[90m━━━━━━━━━━━━━━━━━━━━━━━━━━━━━━━━━━━━━━━━\u001b[0m \u001b[32m4.8/4.8 MB\u001b[0m \u001b[31m30.3 MB/s\u001b[0m eta \u001b[36m0:00:00\u001b[0ma \u001b[36m0:00:01\u001b[0m\n",
      "\u001b[?25hCollecting python-dotenv==1.0 (from pachyderm_sdk)\n",
      "  Downloading python_dotenv-1.0.0-py3-none-any.whl (19 kB)\n",
      "Collecting grpclib<0.5.0,>=0.4.1 (from betterproto==2.0.0b5->pachyderm_sdk)\n",
      "  Downloading grpclib-0.4.6.tar.gz (61 kB)\n",
      "\u001b[2K     \u001b[90m━━━━━━━━━━━━━━━━━━━━━━━━━━━━━━━━━━━━━━━\u001b[0m \u001b[32m61.2/61.2 kB\u001b[0m \u001b[31m108.9 MB/s\u001b[0m eta \u001b[36m0:00:00\u001b[0m\n",
      "\u001b[?25h  Installing build dependencies ... \u001b[?25ldone\n",
      "\u001b[?25h  Getting requirements to build wheel ... \u001b[?25ldone\n",
      "\u001b[?25h  Preparing metadata (pyproject.toml) ... \u001b[?25ldone\n",
      "\u001b[?25hRequirement already satisfied: python-dateutil<3.0,>=2.8 in /opt/conda/lib/python3.8/site-packages (from betterproto==2.0.0b5->pachyderm_sdk) (2.8.2)\n",
      "Collecting h2<5,>=3.1.0 (from grpclib<0.5.0,>=0.4.1->betterproto==2.0.0b5->pachyderm_sdk)\n",
      "  Downloading h2-4.1.0-py3-none-any.whl (57 kB)\n",
      "\u001b[2K     \u001b[90m━━━━━━━━━━━━━━━━━━━━━━━━━━━━━━━━━━━━━━━\u001b[0m \u001b[32m57.5/57.5 kB\u001b[0m \u001b[31m128.8 MB/s\u001b[0m eta \u001b[36m0:00:00\u001b[0m\n",
      "\u001b[?25hCollecting multidict (from grpclib<0.5.0,>=0.4.1->betterproto==2.0.0b5->pachyderm_sdk)\n",
      "  Downloading multidict-6.0.4-cp38-cp38-manylinux_2_17_x86_64.manylinux2014_x86_64.whl (121 kB)\n",
      "\u001b[2K     \u001b[90m━━━━━━━━━━━━━━━━━━━━━━━━━━━━━━━━━━━━━\u001b[0m \u001b[32m121.3/121.3 kB\u001b[0m \u001b[31m204.9 MB/s\u001b[0m eta \u001b[36m0:00:00\u001b[0m\n",
      "\u001b[?25hRequirement already satisfied: six>=1.5 in /opt/conda/lib/python3.8/site-packages (from python-dateutil<3.0,>=2.8->betterproto==2.0.0b5->pachyderm_sdk) (1.16.0)\n",
      "Collecting hyperframe<7,>=6.0 (from h2<5,>=3.1.0->grpclib<0.5.0,>=0.4.1->betterproto==2.0.0b5->pachyderm_sdk)\n",
      "  Downloading hyperframe-6.0.1-py3-none-any.whl (12 kB)\n",
      "Collecting hpack<5,>=4.0 (from h2<5,>=3.1.0->grpclib<0.5.0,>=0.4.1->betterproto==2.0.0b5->pachyderm_sdk)\n",
      "  Downloading hpack-4.0.0-py3-none-any.whl (32 kB)\n",
      "Downloading pachyderm_sdk-2.7.6-py3-none-any.whl (71 kB)\n",
      "\u001b[2K   \u001b[90m━━━━━━━━━━━━━━━━━━━━━━━━━━━━━━━━━━━━━━━━\u001b[0m \u001b[32m71.7/71.7 kB\u001b[0m \u001b[31m169.1 MB/s\u001b[0m eta \u001b[36m0:00:00\u001b[0m\n",
      "\u001b[?25hBuilding wheels for collected packages: grpclib\n",
      "  Building wheel for grpclib (pyproject.toml) ... \u001b[?25ldone\n",
      "\u001b[?25h  Created wheel for grpclib: filename=grpclib-0.4.6-py3-none-any.whl size=76138 sha256=b7df7ad892f693adbba34b1731ca045527d18e14ecec99beeb1fcbdd9185db36\n",
      "  Stored in directory: /tmp/pip-ephem-wheel-cache-meogmy9s/wheels/bb/d5/95/4e9fa53e3469e82484a471d5e645bba6f0db8e52b3f22bbb7d\n",
      "Successfully built grpclib\n",
      "Installing collected packages: python-dotenv, multidict, hyperframe, hpack, grpcio, h2, grpc-interceptor, grpclib, betterproto, pachyderm_sdk\n",
      "  Attempting uninstall: grpcio\n",
      "    Found existing installation: grpcio 1.56.2\n",
      "    Uninstalling grpcio-1.56.2:\n",
      "      Successfully uninstalled grpcio-1.56.2\n",
      "\u001b[31mERROR: pip's dependency resolver does not currently take into account all the packages that are installed. This behaviour is the source of the following dependency conflicts.\n",
      "tensorflow-cpu 2.11.1 requires protobuf<3.20,>=3.9.2, but you have protobuf 3.20.3 which is incompatible.\u001b[0m\u001b[31m\n",
      "\u001b[0mSuccessfully installed betterproto-2.0.0b5 grpc-interceptor-0.14.2 grpcio-1.51.3 grpclib-0.4.6 h2-4.1.0 hpack-4.0.0 hyperframe-6.0.1 multidict-6.0.4 pachyderm_sdk-2.7.6 python-dotenv-1.0.0\n",
      "\u001b[33mWARNING: Running pip as the 'root' user can result in broken permissions and conflicting behaviour with the system package manager. It is recommended to use a virtual environment instead: https://pip.pypa.io/warnings/venv\u001b[0m\u001b[33m\n",
      "\u001b[0m"
     ]
    }
   ],
   "source": [
    "!pip install pachyderm_sdk"
   ]
  },
  {
   "cell_type": "markdown",
   "id": "a4897f83-e081-4ce3-8a6c-3ee04137e5a5",
   "metadata": {},
   "source": [
    "## Connect to the cluster"
   ]
  },
  {
   "cell_type": "code",
   "execution_count": 72,
   "id": "0d2709bc-b444-4d2b-a3bd-4757f46e2765",
   "metadata": {},
   "outputs": [],
   "source": [
    "import pachyderm_sdk\n",
    "from pachyderm_sdk.api import pfs, pps\n",
    "from pachyderm_sdk.api.pfs import File, FileType"
   ]
  },
  {
   "cell_type": "code",
   "execution_count": 74,
   "id": "607351ee-9967-475d-b843-9fe0f3d3d768",
   "metadata": {},
   "outputs": [],
   "source": [
    "client = pachyderm_sdk.Client.from_config()"
   ]
  },
  {
   "cell_type": "code",
   "execution_count": 75,
   "id": "d0a77083-4146-4395-a38b-fba754770064",
   "metadata": {},
   "outputs": [
    {
     "name": "stdout",
     "output_type": "stream",
     "text": [
      "Version(major=2, minor=7, micro=5, git_commit='45809f13093271c2b3e8855a8e2884f9b93e6649', git_tree_modified='false', build_date='2023-10-18T14:10:51Z', go_version='go1.21.3', platform='amd64')\n"
     ]
    }
   ],
   "source": [
    "version = client.get_version()\n",
    "print(version)"
   ]
  },
  {
   "cell_type": "markdown",
   "id": "8789963f-b9fc-4843-87e6-98edf291e929",
   "metadata": {},
   "source": [
    "## List files from a repo"
   ]
  },
  {
   "cell_type": "code",
   "execution_count": 76,
   "id": "35c0aa8b-7c88-40f5-b11f-e210cac79bda",
   "metadata": {},
   "outputs": [
    {
     "name": "stdout",
     "output_type": "stream",
     "text": [
      "/\n",
      "/cat-sleeping.MOV\n",
      "/liberty.png\n",
      "/robot.png\n",
      "/robot1.png\n",
      "/robot2.png\n",
      "/robot3.png\n"
     ]
    }
   ],
   "source": [
    "repo = \"raw_videos_and_images\"\n",
    "branch = \"master\"\n",
    "\n",
    "for file_info in client.pfs.walk_file(file=File.from_uri(f\"{project_name}/{repo}@{branch}\")):\n",
    "    f_path = file_info.file.path\n",
    "    print(f_path)"
   ]
  },
  {
   "cell_type": "markdown",
   "id": "c77b73e8-db28-457b-9541-d7c7047167bb",
   "metadata": {},
   "source": [
    "## Create a repo"
   ]
  },
  {
   "cell_type": "code",
   "execution_count": 77,
   "id": "173b4020-33da-4c0c-adbb-782d79b15226",
   "metadata": {},
   "outputs": [
    {
     "name": "stdout",
     "output_type": "stream",
     "text": [
      "Repo creation successful.\n"
     ]
    }
   ],
   "source": [
    "project = pfs.Project(name=project_name)\n",
    "repo = pfs.Repo(name=\"sdk_repo\", project=project)\n",
    "branch = pfs.Branch.from_uri(f\"{repo}@master\")\n",
    "\n",
    "try:\n",
    "    client.pfs.create_repo(repo=repo, description=\"my first sdk-created repo\")\n",
    "    print(\"Repo creation successful.\")\n",
    "except Exception as e:\n",
    "    print(\"Error creating project or repo:\", e)\n",
    "    exit(1)"
   ]
  },
  {
   "cell_type": "markdown",
   "id": "8c5ed7d1-72f2-40c3-9f76-624e37c4bbeb",
   "metadata": {},
   "source": [
    "## Create a commit"
   ]
  },
  {
   "cell_type": "code",
   "execution_count": 78,
   "id": "514f90aa-d090-40c2-ae83-b5d1e6cbef16",
   "metadata": {},
   "outputs": [
    {
     "name": "stdout",
     "output_type": "stream",
     "text": [
      "Data loaded into the repo as a commit.\n"
     ]
    }
   ],
   "source": [
    "try:\n",
    "    with client.pfs.commit(branch=branch) as commit:\n",
    "        with open(\"files/liberty.jpg\", \"rb\") as source:\n",
    "            commit.put_file_from_file(path=\"/liberty.png\", file=source)\n",
    "    print(\"Data loaded into the repo as a commit.\")\n",
    "except Exception as e:\n",
    "    print(\"Error loading data into the repo:\", e)\n",
    "    exit(1)"
   ]
  },
  {
   "cell_type": "markdown",
   "id": "fc0520e5-0a15-4631-8da4-cd8532715d8a",
   "metadata": {},
   "source": [
    "## Create a pipeline"
   ]
  },
  {
   "cell_type": "code",
   "execution_count": 79,
   "id": "b00e9c58-8fc6-4cd0-8a4f-55663cc628fd",
   "metadata": {},
   "outputs": [
    {
     "name": "stdout",
     "output_type": "stream",
     "text": [
      "Pipeline created successfully.\n"
     ]
    }
   ],
   "source": [
    "try:\n",
    "    input = pps.Input(pfs=pps.PfsInput(project=project.name, branch=\"master\", repo=repo.name, glob=\"/*\"))\n",
    "    transform = pps.Transform(\n",
    "        image=\"lbliii/image_tracer:1.0.8\", \n",
    "        cmd=[\"python3\", \"/image_tracer.py\", \n",
    "             \"--input\", \"/pfs/sdk_repo\",\n",
    "             \"--output\", \"/pfs/out/\"]\n",
    "    )\n",
    "\n",
    "    pipeline = pps.Pipeline(name=\"sdk_image_tracer\", project=project)\n",
    "\n",
    "    client.pps.create_pipeline(pipeline=pipeline, input=input, transform=transform)\n",
    "    print(\"Pipeline created successfully.\")\n",
    "except Exception as e:\n",
    "    print(\"Error creating the pipeline:\", e)\n",
    "    exit(1)"
   ]
  },
  {
   "cell_type": "markdown",
   "id": "47eee970-2623-49f1-af71-d3f9ebe7ec4e",
   "metadata": {},
   "source": [
    "## Delete pipeline and repo"
   ]
  },
  {
   "cell_type": "code",
   "execution_count": 80,
   "id": "d48e2fac-ec39-4d96-beed-8169397978ce",
   "metadata": {},
   "outputs": [
    {
     "data": {
      "text/plain": [
       "Empty()"
      ]
     },
     "execution_count": 80,
     "metadata": {},
     "output_type": "execute_result"
    }
   ],
   "source": [
    "client.pps.delete_pipeline(pipeline=pipeline)"
   ]
  },
  {
   "cell_type": "code",
   "execution_count": 81,
   "id": "4a1ba54b-b0c4-472f-9c96-0b5b649288a2",
   "metadata": {},
   "outputs": [
    {
     "data": {
      "text/plain": [
       "Empty()"
      ]
     },
     "execution_count": 81,
     "metadata": {},
     "output_type": "execute_result"
    }
   ],
   "source": [
    "client.pfs.delete_repo(repo=repo)"
   ]
  },
  {
   "cell_type": "code",
   "execution_count": null,
   "id": "56057e7b-a1ce-4af7-97ec-2e57c628390f",
   "metadata": {},
   "outputs": [],
   "source": []
  }
 ],
 "metadata": {
  "kernelspec": {
   "display_name": "Python 3 (ipykernel)",
   "language": "python",
   "name": "python3"
  },
  "language_info": {
   "codemirror_mode": {
    "name": "ipython",
    "version": 3
   },
   "file_extension": ".py",
   "mimetype": "text/x-python",
   "name": "python",
   "nbconvert_exporter": "python",
   "pygments_lexer": "ipython3",
   "version": "3.8.17"
  }
 },
 "nbformat": 4,
 "nbformat_minor": 5
}

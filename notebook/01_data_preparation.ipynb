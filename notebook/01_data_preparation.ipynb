{
 "cells": [
  {
   "cell_type": "markdown",
   "metadata": {},
   "source": [
    "<img src=\"img/hpe_logo.png\" alt=\"HPE Logo\" width=\"125\">"
   ]
  },
  {
   "cell_type": "markdown",
   "id": "f76a2a44-2164-4722-a48d-27708dc2fc55",
   "metadata": {},
   "source": [
    "# HPE ML Platform Workshop - Data Preparation"
   ]
  },
  {
   "cell_type": "markdown",
   "id": "976a19e6-1b08-4265-97fd-56c33b2bc258",
   "metadata": {},
   "source": [
    "<img src=\"./img/platform_step01_data.png\"></img>"
   ]
  },
  {
   "cell_type": "markdown",
   "id": "8d5d3b58-e0b5-4770-918e-87bf24e4aeed",
   "metadata": {},
   "source": [
    "## Install pachctl (MLDM client)"
   ]
  },
  {
   "cell_type": "code",
   "execution_count": null,
   "id": "353296a9-9a5a-4519-84de-85dcbcd1109f",
   "metadata": {},
   "outputs": [],
   "source": [
    "import os"
   ]
  },
  {
   "cell_type": "code",
   "execution_count": null,
   "id": "1bc794b9-8334-47c5-9b4e-cf20665f0a21",
   "metadata": {},
   "outputs": [],
   "source": [
    "p_ver = \"2.8.2\"\n",
    "cm = f\"curl -L https://github.com/pachyderm/pachyderm/releases/download/v{p_ver}/pachctl_{p_ver}_linux_amd64.tar.gz | tar -xzv --strip-components=1 -C /usr/local/bin\""
   ]
  },
  {
   "cell_type": "code",
   "execution_count": null,
   "id": "2cf7f3bc-c0cc-4e02-8c94-37940ae81236",
   "metadata": {},
   "outputs": [],
   "source": [
    "os.system(cm)"
   ]
  },
  {
   "cell_type": "markdown",
   "id": "65b87f7f-6d8b-4b80-a97f-a2d705ab593b",
   "metadata": {},
   "source": [
    "## Connect to the cluster"
   ]
  },
  {
   "cell_type": "code",
   "execution_count": null,
   "id": "a1c91ae3-6604-4e92-b9bd-ae5f42c2dc81",
   "metadata": {},
   "outputs": [],
   "source": [
    "cluster_address = \"grpc://34.68.160.253:80\"\n",
    "\n",
    "!pachctl connect $cluster_address\n",
    "#!pachctl auth login"
   ]
  },
  {
   "cell_type": "markdown",
   "id": "869c755c-4c89-4f45-9dc9-b95446853463",
   "metadata": {},
   "source": [
    "&nbsp;"
   ]
  },
  {
   "cell_type": "markdown",
   "id": "10a1302a-c3b7-4a9e-b379-39c5cd42e175",
   "metadata": {},
   "source": [
    "## Create the MLDM project"
   ]
  },
  {
   "cell_type": "code",
   "execution_count": null,
   "id": "4e3f1d47-cc71-4b03-b2b4-ac0fa191f857",
   "metadata": {},
   "outputs": [],
   "source": [
    "project_name = \"user01-brain-mri-ws\" # change the project name to your user"
   ]
  },
  {
   "cell_type": "code",
   "execution_count": null,
   "id": "2f7fa380-72a5-42eb-8326-e3a22e64de38",
   "metadata": {},
   "outputs": [],
   "source": [
    "!pachctl create project $project_name"
   ]
  },
  {
   "cell_type": "code",
   "execution_count": null,
   "id": "25788c4a-f7c9-41fc-88ea-323e549638b3",
   "metadata": {},
   "outputs": [],
   "source": [
    "!pachctl list projects # default should be the active one"
   ]
  },
  {
   "cell_type": "markdown",
   "id": "27d1b26d-2be9-4375-a275-72c00bce548a",
   "metadata": {},
   "source": [
    "## Set the context to your project"
   ]
  },
  {
   "cell_type": "code",
   "execution_count": null,
   "id": "1743f9b4-6d78-4322-9936-9665d74a5b8a",
   "metadata": {},
   "outputs": [],
   "source": [
    "!pachctl config update context --project $project_name"
   ]
  },
  {
   "cell_type": "code",
   "execution_count": null,
   "id": "1fa13b5f-0b03-4a7f-aae4-e7d3d342d94f",
   "metadata": {},
   "outputs": [],
   "source": [
    "!pachctl list projects # your project should be the active one"
   ]
  },
  {
   "cell_type": "code",
   "execution_count": null,
   "id": "458fcdce-9e15-4216-a33b-9a6989c60e38",
   "metadata": {},
   "outputs": [],
   "source": [
    "!pachctl list repos # empty"
   ]
  },
  {
   "cell_type": "markdown",
   "id": "9a07bb38-5613-4e73-b85d-bc1da3448aa7",
   "metadata": {},
   "source": [
    "## Create the first repository"
   ]
  },
  {
   "cell_type": "markdown",
   "metadata": {},
   "source": [
    "<img src=\"./img/01_mldm/01.png\" alt=\"MLDM - Important Concepts\" width=800px></img>"
   ]
  },
  {
   "cell_type": "code",
   "execution_count": null,
   "id": "330f1994-ca46-4230-aa02-39393b81f1dc",
   "metadata": {},
   "outputs": [],
   "source": [
    "!pachctl create repo brain-mri-data"
   ]
  },
  {
   "cell_type": "code",
   "execution_count": null,
   "id": "ac68cbeb-46e7-4fa3-ba81-fa5180764659",
   "metadata": {},
   "outputs": [],
   "source": [
    "!pachctl list repos # brain-mri-data repo should be listed here"
   ]
  },
  {
   "cell_type": "markdown",
   "id": "5563b94e-6955-48d7-998a-ffbe1d84e596",
   "metadata": {},
   "source": [
    "## Upload files"
   ]
  },
  {
   "cell_type": "code",
   "execution_count": null,
   "id": "860f2ca5-14b6-492b-a832-1f49e4b0057c",
   "metadata": {
    "tags": []
   },
   "outputs": [],
   "source": [
    "!pachctl put file brain-mri-data@master:/data1 -f ../images/brain -r"
   ]
  },
  {
   "cell_type": "code",
   "execution_count": null,
   "id": "b5c0e6fc-89a2-4ea6-9868-2831da66e632",
   "metadata": {},
   "outputs": [],
   "source": [
    "!pachctl list files brain-mri-data@master"
   ]
  },
  {
   "cell_type": "markdown",
   "id": "d44d4a1a-f8d0-4f05-9a84-5bdf8996829f",
   "metadata": {},
   "source": [
    "<br/>\n",
    "<div style=\"font-size:20px;color:maroon;font-family: 'Courier New';font-weight:bold\">\n",
    "    Alt+Tab: Check the Repo in the MLDM UI\n",
    "</div>"
   ]
  },
  {
   "cell_type": "markdown",
   "id": "a8e8dda8-ae90-4b02-abe2-51a7662f84c4",
   "metadata": {},
   "source": [
    "# Data Pre-Processing"
   ]
  },
  {
   "cell_type": "markdown",
   "metadata": {},
   "source": [
    "<img src=\"./img/01_mldm/02.png\" alt=\"Pipelines\" width=800px;></img>"
   ]
  },
  {
   "cell_type": "markdown",
   "id": "16b8aaaf-84ad-4e0d-9e05-b706e61b5317",
   "metadata": {
    "tags": []
   },
   "source": [
    "## Creating the Validation pipeline"
   ]
  },
  {
   "cell_type": "code",
   "execution_count": null,
   "id": "6c824c7e-edef-4331-ac07-b2024920e526",
   "metadata": {},
   "outputs": [],
   "source": [
    "!cat ../pipelines/1_validate.yaml"
   ]
  },
  {
   "cell_type": "markdown",
   "id": "e7fd5ecc-b2c2-4a66-8b61-ff80fec3f9d1",
   "metadata": {},
   "source": [
    "#### Get a list of datums for this pipeline (based on the glob pattern used)"
   ]
  },
  {
   "cell_type": "code",
   "execution_count": null,
   "id": "08ffdf78-57ee-4756-9940-007909334f8a",
   "metadata": {},
   "outputs": [],
   "source": [
    "!pachctl list datums -f ../pipelines/1_validate.yaml"
   ]
  },
  {
   "cell_type": "markdown",
   "id": "4b7b91a1-aa01-46af-a7c6-7335bcef3773",
   "metadata": {},
   "source": [
    "#### Create the pipeline"
   ]
  },
  {
   "cell_type": "code",
   "execution_count": null,
   "id": "25458476-0a33-4d1b-9bcc-03c5ea844837",
   "metadata": {
    "tags": []
   },
   "outputs": [],
   "source": [
    "!pachctl create pipeline -f ../pipelines/1_validate.yaml"
   ]
  },
  {
   "cell_type": "code",
   "execution_count": null,
   "id": "36e40a4e-5fb1-47a4-a62e-9c851f14bec7",
   "metadata": {},
   "outputs": [],
   "source": [
    "!pachctl list pipeline"
   ]
  },
  {
   "cell_type": "markdown",
   "id": "35e8207e-1d44-4325-a74c-70cd8bbe779a",
   "metadata": {},
   "source": [
    "<br/>\n",
    "<div style=\"font-size:20px;color:maroon;font-family: 'Courier New';font-weight:bold\">\n",
    "    Alt+Tab: Check Pipeline in the MLDM UI\n",
    "</div>"
   ]
  },
  {
   "cell_type": "markdown",
   "id": "1e5035eb-5acd-4c28-aed0-29b939a71924",
   "metadata": {},
   "source": [
    "## Datums and glob patterns"
   ]
  },
  {
   "cell_type": "markdown",
   "metadata": {},
   "source": [
    "<img src=\"https://mldm.pachyderm.com/images/distributed-computing101.gif\" alt=\"Datums\" width=800px></img>"
   ]
  },
  {
   "cell_type": "markdown",
   "metadata": {},
   "source": [
    "<img src=\"./img/01_mldm/03.png\" alt=\"Glob Patterns\" width=800px></img>"
   ]
  },
  {
   "cell_type": "code",
   "execution_count": null,
   "id": "ade4571a-bbc0-4e15-b26d-07faa1481e52",
   "metadata": {},
   "outputs": [],
   "source": [
    "# how many datums does the validation pipeline see?\n",
    "!pachctl list datum -f ../pipelines/1_validate.yaml"
   ]
  },
  {
   "cell_type": "code",
   "execution_count": null,
   "id": "1638aecf-17aa-4f46-9de5-736cda3b9346",
   "metadata": {
    "tags": []
   },
   "outputs": [],
   "source": [
    "# Get 'first-level' files and folders\n",
    "!pachctl glob file brain-mri-data@master:/*"
   ]
  },
  {
   "cell_type": "code",
   "execution_count": null,
   "id": "104b4250-0c4f-4a05-822c-1ee3b2d4b717",
   "metadata": {
    "tags": []
   },
   "outputs": [],
   "source": [
    "# Get only 'second-level' files and folders\n",
    "!pachctl glob file brain-mri-data@master:/*/*"
   ]
  },
  {
   "cell_type": "code",
   "execution_count": null,
   "id": "ff13acee-72de-4801-b63a-3cee2fc31b1b",
   "metadata": {
    "tags": []
   },
   "outputs": [],
   "source": [
    "# Get only TIFF files --> Need to escape the brackets only in the notebook environment\n",
    "!pachctl glob file brain-mri-data@master:/**.\\{tif,tiff\\}"
   ]
  },
  {
   "cell_type": "code",
   "execution_count": null,
   "id": "8be63b30-525e-4361-884c-72bd1bc01bdc",
   "metadata": {
    "tags": []
   },
   "outputs": [],
   "source": [
    "# Get only non TIFF files\n",
    "!pachctl glob file brain-mri-data@master:/**[!.tif]"
   ]
  },
  {
   "cell_type": "markdown",
   "id": "e5bc638d-3b5e-460f-8311-a4559c03a74c",
   "metadata": {},
   "source": [
    "## Creating the Conversion pipeline"
   ]
  },
  {
   "cell_type": "code",
   "execution_count": null,
   "id": "49f5779c-55a9-4fa9-9577-ba8defc0ca75",
   "metadata": {},
   "outputs": [],
   "source": [
    "!cat ../pipelines/2_convert.yaml"
   ]
  },
  {
   "cell_type": "markdown",
   "id": "f28fddec-dd39-49f4-a62a-7cbc5dcf49ab",
   "metadata": {},
   "source": [
    "#### Get a list of datums for this pipeline (based on the glob pattern used)"
   ]
  },
  {
   "cell_type": "code",
   "execution_count": null,
   "id": "14a59453-4efa-4cae-b122-48eaccc80a80",
   "metadata": {},
   "outputs": [],
   "source": [
    "!pachctl list datums -f ../pipelines/2_convert.yaml"
   ]
  },
  {
   "cell_type": "markdown",
   "id": "58006075-46cd-4157-9505-dc831b24ded9",
   "metadata": {},
   "source": [
    "#### Create the pipeline"
   ]
  },
  {
   "cell_type": "code",
   "execution_count": null,
   "id": "3fae2076-fc8b-489c-90b3-02ab05df9435",
   "metadata": {},
   "outputs": [],
   "source": [
    "!pachctl create pipeline -f ../pipelines/2_convert.yaml"
   ]
  },
  {
   "cell_type": "code",
   "execution_count": null,
   "id": "5945c055-17c7-4c2a-8ca3-52b2a2da0f4d",
   "metadata": {},
   "outputs": [],
   "source": [
    "!pachctl list pipeline"
   ]
  },
  {
   "cell_type": "markdown",
   "id": "804f6e12-c760-4eae-bad8-b904c64c44cc",
   "metadata": {},
   "source": [
    "<br/>\n",
    "<div style=\"font-size:20px;color:maroon;font-family: 'Courier New';font-weight:bold\">\n",
    "    Alt+Tab: Check Pipeline in the MLDM UI\n",
    "</div>"
   ]
  },
  {
   "cell_type": "markdown",
   "id": "485a5efc-b8be-4dc6-bfb3-e7263b63347a",
   "metadata": {},
   "source": [
    "## Inspecting jobs, logs and pipeline spec"
   ]
  },
  {
   "cell_type": "code",
   "execution_count": null,
   "id": "513186e1-2ebe-400a-bf97-ab1ab5e6acb9",
   "metadata": {
    "tags": []
   },
   "outputs": [],
   "source": [
    "!pachctl list pipeline --spec --output yaml # gives the entire list of pipelines, corresponds to the latest commit by default"
   ]
  },
  {
   "cell_type": "code",
   "execution_count": null,
   "id": "311f74a6-f189-441e-bac4-bbc7c6e24676",
   "metadata": {},
   "outputs": [],
   "source": [
    "!pachctl list job --pipeline convert_images"
   ]
  },
  {
   "cell_type": "code",
   "execution_count": null,
   "metadata": {},
   "outputs": [],
   "source": [
    "!pachctl list job --pipeline convert_images --raw --output json | jq -r .\"job.id\""
   ]
  },
  {
   "cell_type": "code",
   "execution_count": null,
   "metadata": {},
   "outputs": [],
   "source": [
    "job_id = !pachctl list job --pipeline convert_images --raw --output json | jq -r .\"job.id\"\n",
    "job_id = job_id[0]"
   ]
  },
  {
   "cell_type": "code",
   "execution_count": null,
   "id": "8f15bc65-5ab6-408b-921a-cbf9da1f7cfe",
   "metadata": {
    "tags": []
   },
   "outputs": [],
   "source": [
    "!pachctl inspect job convert_images@{job_id}  # add a job id to inspect the job"
   ]
  },
  {
   "cell_type": "code",
   "execution_count": null,
   "id": "33fb0f85-16d9-4b5c-aa1a-5df11e3bf6f5",
   "metadata": {
    "tags": []
   },
   "outputs": [],
   "source": [
    "!pachctl logs --pipeline convert_images"
   ]
  },
  {
   "cell_type": "code",
   "execution_count": null,
   "id": "96aa6a9f-9b6b-457e-af5b-13e7e2364ffa",
   "metadata": {
    "tags": []
   },
   "outputs": [],
   "source": [
    "!pachctl logs --job convert_images@{job_id}"
   ]
  },
  {
   "cell_type": "markdown",
   "id": "3da6e9bf-3f89-419b-83f8-5437df458c0c",
   "metadata": {},
   "source": [
    "## Creating the Resizing pipeline"
   ]
  },
  {
   "cell_type": "code",
   "execution_count": null,
   "id": "df705b8c-486b-4cfd-b56e-4713dbdb3538",
   "metadata": {},
   "outputs": [],
   "source": [
    "!cat ../pipelines/3_resize.yaml"
   ]
  },
  {
   "cell_type": "markdown",
   "id": "f4d2917b-d744-4e30-86df-a4bea9cccb71",
   "metadata": {},
   "source": [
    "#### Get a list of datums for this pipeline (based on the glob pattern used)"
   ]
  },
  {
   "cell_type": "code",
   "execution_count": null,
   "id": "2c9bbf7c-c310-44db-8c7f-b6356a766f42",
   "metadata": {},
   "outputs": [],
   "source": [
    "!pachctl list datums -f ../pipelines/3_resize.yaml"
   ]
  },
  {
   "cell_type": "markdown",
   "id": "6f08e3fd-9e9d-4c5b-a8bd-71cd355ab5a6",
   "metadata": {},
   "source": [
    "#### Create the pipeline"
   ]
  },
  {
   "cell_type": "code",
   "execution_count": null,
   "id": "7c5047b2-fb1a-4c15-a7b8-7153576f6152",
   "metadata": {},
   "outputs": [],
   "source": [
    "!pachctl create pipeline -f ../pipelines/3_resize.yaml"
   ]
  },
  {
   "cell_type": "code",
   "execution_count": null,
   "id": "5cdb8d1d-104b-462f-9a4e-42bc01260ddf",
   "metadata": {},
   "outputs": [],
   "source": [
    "!pachctl list pipeline"
   ]
  },
  {
   "cell_type": "markdown",
   "id": "5bbae15a-77c9-46b4-a90f-8685c29efab5",
   "metadata": {},
   "source": [
    "<br/>\n",
    "<div style=\"font-size:20px;color:maroon;font-family: 'Courier New';font-weight:bold\">\n",
    "    Alt+Tab: Check Pipeline in the MLDM UI\n",
    "</div>"
   ]
  },
  {
   "cell_type": "markdown",
   "id": "f37a7d29-c417-401d-99f8-1a4cd422fc76",
   "metadata": {},
   "source": [
    "## Creating the Report pipeline"
   ]
  },
  {
   "cell_type": "markdown",
   "metadata": {},
   "source": [
    "<img src=\"./img/01_mldm/04.png\" alt=\"Types of Pipeline Input\" width=800px></img>"
   ]
  },
  {
   "cell_type": "code",
   "execution_count": null,
   "id": "76e26c94-bf5f-4a4d-a834-5f4caa39958b",
   "metadata": {},
   "outputs": [],
   "source": [
    "!cat ../pipelines/4_report.yaml"
   ]
  },
  {
   "cell_type": "markdown",
   "id": "8fbdf436-29ec-4793-bf6b-759437654a57",
   "metadata": {},
   "source": [
    "#### Get a list of datums for this pipeline (based on the glob pattern used)"
   ]
  },
  {
   "cell_type": "code",
   "execution_count": null,
   "id": "768c0879-3b20-4f55-b1ce-dd5d5bf7b1a0",
   "metadata": {},
   "outputs": [],
   "source": [
    "!pachctl list datums -f ../pipelines/4_report.yaml"
   ]
  },
  {
   "cell_type": "markdown",
   "id": "5dbfd3c0-dc5b-4719-b27f-fe277dd7ae73",
   "metadata": {},
   "source": [
    "#### Create the pipeline"
   ]
  },
  {
   "cell_type": "code",
   "execution_count": null,
   "id": "a2e3b6a1-8607-4e46-857f-29728a02b40e",
   "metadata": {},
   "outputs": [],
   "source": [
    "!pachctl create pipeline -f ../pipelines/4_report.yaml"
   ]
  },
  {
   "cell_type": "code",
   "execution_count": null,
   "id": "04f7d163-7a95-4144-a93c-633c6f37fc43",
   "metadata": {},
   "outputs": [],
   "source": [
    "!pachctl list pipeline"
   ]
  },
  {
   "cell_type": "markdown",
   "id": "d887511b-78ab-4351-be85-4511a627cf03",
   "metadata": {},
   "source": [
    "<br/>\n",
    "<div style=\"font-size:20px;color:maroon;font-family: 'Courier New';font-weight:bold\">\n",
    "    Alt+Tab: Check Pipeline in the MLDM UI\n",
    "</div>"
   ]
  },
  {
   "cell_type": "markdown",
   "id": "3dc3b061-6a23-4728-a99e-696555260948",
   "metadata": {},
   "source": [
    "## Create the Final Report pipeline"
   ]
  },
  {
   "cell_type": "code",
   "execution_count": null,
   "id": "094089c2-3adb-4b90-af6d-8358139b3b7c",
   "metadata": {},
   "outputs": [],
   "source": [
    "!cat ../pipelines/5_final_report.yaml"
   ]
  },
  {
   "cell_type": "markdown",
   "id": "19b0dbf2-8977-43b8-9b3a-3f648ae8dbc9",
   "metadata": {},
   "source": [
    "#### Get a list of datums for this pipeline (based on the glob pattern used)"
   ]
  },
  {
   "cell_type": "code",
   "execution_count": null,
   "id": "7af3e4b6-14fc-43a6-8186-b23d04ffbe5f",
   "metadata": {},
   "outputs": [],
   "source": [
    "!pachctl list datums -f ../pipelines/5_final_report.yaml"
   ]
  },
  {
   "cell_type": "markdown",
   "id": "1b240752-8391-4262-b262-17da7c8d50bd",
   "metadata": {},
   "source": [
    "#### Create the pipeline"
   ]
  },
  {
   "cell_type": "code",
   "execution_count": null,
   "id": "1f0bb40b-cc58-4ab8-846e-aee6df8afed8",
   "metadata": {},
   "outputs": [],
   "source": [
    "!pachctl create pipeline -f ../pipelines/5_final_report.yaml"
   ]
  },
  {
   "cell_type": "code",
   "execution_count": null,
   "id": "5be934ee-8186-4fd1-9630-490f56a07b2d",
   "metadata": {},
   "outputs": [],
   "source": [
    "!pachctl list pipeline"
   ]
  },
  {
   "cell_type": "markdown",
   "id": "92a99491-0c2c-4cdd-8006-c2d0b602dc3b",
   "metadata": {},
   "source": [
    "<br/>\n",
    "<div style=\"font-size:20px;color:maroon;font-family: 'Courier New';font-weight:bold\">\n",
    "    Alt+Tab: Check Pipeline in the MLDM UI\n",
    "</div>"
   ]
  },
  {
   "cell_type": "markdown",
   "id": "d29993a6-182b-448d-8158-bfc695e3252c",
   "metadata": {},
   "source": [
    "## Create the Serve Report pipeline"
   ]
  },
  {
   "cell_type": "code",
   "execution_count": null,
   "id": "fac0e0d1-2211-4b49-8c44-74a7a7ea6735",
   "metadata": {},
   "outputs": [],
   "source": [
    "!cat ../pipelines/6_serve.yaml"
   ]
  },
  {
   "cell_type": "markdown",
   "id": "9d4265a3-7e81-4cd2-9d17-ddbf112bbf52",
   "metadata": {},
   "source": [
    "#### Get a list of datums for this pipeline (based on the glob pattern used)"
   ]
  },
  {
   "cell_type": "code",
   "execution_count": null,
   "id": "a38d2898-3c47-4ead-a011-76f27a84cf61",
   "metadata": {},
   "outputs": [],
   "source": [
    "!pachctl list datums -f ../pipelines/6_serve.yaml"
   ]
  },
  {
   "cell_type": "markdown",
   "id": "ab73ded6-fc1f-4ff5-9b6f-fac2d03b4113",
   "metadata": {},
   "source": [
    "#### Create the pipeline"
   ]
  },
  {
   "cell_type": "code",
   "execution_count": null,
   "id": "2579dc79-4f04-4e43-a185-d592a16b7a9f",
   "metadata": {},
   "outputs": [],
   "source": [
    "!pachctl create pipeline -f ../pipelines/6_serve.yaml"
   ]
  },
  {
   "cell_type": "code",
   "execution_count": null,
   "id": "6f7f74c7-7077-409a-b1b8-ae818b2eb019",
   "metadata": {},
   "outputs": [],
   "source": [
    "!pachctl list pipeline"
   ]
  },
  {
   "cell_type": "code",
   "execution_count": null,
   "id": "f7a40433-747c-41f2-9389-6916d919fe25",
   "metadata": {},
   "outputs": [],
   "source": [
    "!pachctl inspect pipeline serve_report --raw -o json"
   ]
  },
  {
   "cell_type": "code",
   "execution_count": null,
   "metadata": {},
   "outputs": [],
   "source": [
    "!pachctl inspect pipeline serve_report --raw -o json | jq -r .\"details.service.ip\""
   ]
  },
  {
   "cell_type": "code",
   "execution_count": null,
   "metadata": {},
   "outputs": [],
   "source": [
    "report_ip = !pachctl inspect pipeline serve_report --raw -o json | jq -r .\"details.service.ip\"\n",
    "report_ip = report_ip[0]"
   ]
  },
  {
   "cell_type": "code",
   "execution_count": null,
   "metadata": {},
   "outputs": [],
   "source": [
    "print(f\"http://{report_ip}:8080/full_report.html\")"
   ]
  },
  {
   "cell_type": "markdown",
   "id": "e5c10b69-f2d5-40f2-b208-d76c17811707",
   "metadata": {},
   "source": [
    "<br/>\n",
    "<div style=\"font-size:20px;color:maroon;font-family: 'Courier New';font-weight:bold\">\n",
    "    Alt+Tab: Grab the service IP and go to http://service_ip:8080/full_report.html to see the report<br/>\n",
    "    Delete the pipeline when you're done to release the CPU.\n",
    "</div>"
   ]
  },
  {
   "cell_type": "markdown",
   "id": "40ade305-2a28-4499-b45f-f23533724bcd",
   "metadata": {},
   "source": [
    "### Delete the Pipeline"
   ]
  },
  {
   "cell_type": "code",
   "execution_count": null,
   "id": "2923df47-a246-400e-b947-470a8cc41944",
   "metadata": {},
   "outputs": [],
   "source": [
    "!pachctl delete pipeline serve_report"
   ]
  },
  {
   "cell_type": "markdown",
   "id": "56d3b209-341b-4b55-852d-be7379395d94",
   "metadata": {},
   "source": [
    "&nbsp;"
   ]
  },
  {
   "cell_type": "markdown",
   "id": "a16aa953-6a6f-4f20-b87c-8f0b8e1933bb",
   "metadata": {},
   "source": [
    "# Model Training"
   ]
  },
  {
   "cell_type": "markdown",
   "id": "b4ef10be-2eaa-40eb-9323-8a0f1c55ea45",
   "metadata": {},
   "source": [
    "### Create the Model Training pipeline"
   ]
  },
  {
   "cell_type": "code",
   "execution_count": null,
   "id": "554f405a-5acb-4721-ac43-10f32f0471d3",
   "metadata": {},
   "outputs": [],
   "source": [
    "!cat ../pipelines/7_train_model.yaml"
   ]
  },
  {
   "cell_type": "markdown",
   "id": "49d36838-90ce-4fda-bd10-83512ce8c468",
   "metadata": {},
   "source": [
    "<br/>\n",
    "<div style=\"font-size:20px;color:maroon;font-family: 'Courier New';font-weight:bold\">\n",
    "    Important: Edit the <i>7_train_model.yaml</i> file and review the values for:\n",
    "    <ul><li>workspace (The MLDE workspace for this workshop)</li>\n",
    "        <li>mlde_project (The MLDE project for your user)</li>\n",
    "        <li>project (MLDM project you created for this lab)</li>\n",
    "    </ul>\n",
    "</div>"
   ]
  },
  {
   "cell_type": "markdown",
   "id": "abdb72dd-6b8b-4771-b900-7cc93d3189f6",
   "metadata": {
    "tags": []
   },
   "source": [
    "#### Get a list of datums for this pipeline (based on the glob pattern used)"
   ]
  },
  {
   "cell_type": "code",
   "execution_count": null,
   "id": "bd9a001b-de55-4254-b633-1093803efd1e",
   "metadata": {},
   "outputs": [],
   "source": [
    "!pachctl list datums -f ../pipelines/7_train_model.yaml"
   ]
  },
  {
   "cell_type": "markdown",
   "id": "db74ee7a-4dab-46c0-8d2c-96e632a1d3e2",
   "metadata": {},
   "source": [
    "#### Create the pipeline"
   ]
  },
  {
   "cell_type": "code",
   "execution_count": null,
   "id": "5c61938d-59ff-4906-abc2-fc59d3efed8e",
   "metadata": {},
   "outputs": [],
   "source": [
    "!pachctl create pipeline -f ../pipelines/7_train_model.yaml"
   ]
  },
  {
   "cell_type": "code",
   "execution_count": null,
   "id": "ad77f805-2c55-416f-9b46-446d1d7ba548",
   "metadata": {},
   "outputs": [],
   "source": [
    "!pachctl list pipeline"
   ]
  },
  {
   "cell_type": "markdown",
   "id": "e2e93620-e313-45ee-ac2c-dbc1cae968fa",
   "metadata": {},
   "source": [
    "<br/>\n",
    "<div style=\"font-size:20px;color:maroon;font-family: 'Courier New';font-weight:bold\">\n",
    "    Alt+Tab:<br/>Check Pipeline in the MLDM UI<br/>Check Experiment in MLDE UI<br/>\n",
    "</div>"
   ]
  },
  {
   "cell_type": "markdown",
   "id": "410aa64d",
   "metadata": {},
   "source": [
    "# Model Deployment"
   ]
  },
  {
   "cell_type": "markdown",
   "id": "baf64370",
   "metadata": {},
   "source": [
    "### Create the Model Deployment pipeline"
   ]
  },
  {
   "cell_type": "code",
   "execution_count": null,
   "id": "0d9a02aa",
   "metadata": {},
   "outputs": [],
   "source": [
    "!cat ../pipelines/8_deploy_model.yaml"
   ]
  },
  {
   "cell_type": "markdown",
   "id": "3ac7e7d1",
   "metadata": {},
   "source": [
    "<br/>\n",
    "<div style=\"font-size:20px;color:maroon;font-family: 'Courier New';font-weight:bold\">\n",
    "    Important: Edit the <i>8_deploy_model.yaml</i> file and review the values for:\n",
    "    <ul><li>deployment-name (must be unique)</li> </ul>\n",
    "</div>"
   ]
  },
  {
   "cell_type": "markdown",
   "id": "557eda92",
   "metadata": {},
   "source": [
    "#### Get a list of datums for this pipeline (based on the glob pattern used)"
   ]
  },
  {
   "cell_type": "code",
   "execution_count": null,
   "id": "d383ff1a",
   "metadata": {},
   "outputs": [],
   "source": [
    "!pachctl list datums -f ../pipelines/8_deploy_model.yaml"
   ]
  },
  {
   "cell_type": "markdown",
   "id": "3fad97b6",
   "metadata": {},
   "source": [
    "#### Create the pipeline"
   ]
  },
  {
   "cell_type": "code",
   "execution_count": null,
   "id": "7433ab37",
   "metadata": {},
   "outputs": [],
   "source": [
    "!pachctl create pipeline -f ../pipelines/8_deploy_model.yaml"
   ]
  },
  {
   "cell_type": "code",
   "execution_count": null,
   "id": "4f1448b7",
   "metadata": {},
   "outputs": [],
   "source": [
    "!pachctl list pipeline"
   ]
  },
  {
   "cell_type": "markdown",
   "id": "634951a4",
   "metadata": {},
   "source": [
    "<br/>\n",
    "<div style=\"font-size:20px;color:maroon;font-family: 'Courier New';font-weight:bold\">\n",
    "    Alt+Tab:<br/>Check Pipeline in the MLDM UI<br/>\n",
    "    How to test the deployed model? Stay tuned for the next lab!!<br/>\n",
    "</div>"
   ]
  },
  {
   "cell_type": "markdown",
   "id": "4ed19e5b-6750-47a0-b7a5-fcf90ddb9ae6",
   "metadata": {},
   "source": [
    " &nbsp;"
   ]
  },
  {
   "cell_type": "markdown",
   "id": "73192af9-465c-4ca9-be66-6e5f90453991",
   "metadata": {},
   "source": [
    "# Congratulations! The Data Preparation lab is completed!"
   ]
  }
 ],
 "metadata": {
  "kernelspec": {
   "display_name": "Python 3 (ipykernel)",
   "language": "python",
   "name": "python3"
  },
  "language_info": {
   "codemirror_mode": {
    "name": "ipython",
    "version": 3
   },
   "file_extension": ".py",
   "mimetype": "text/x-python",
   "name": "python",
   "nbconvert_exporter": "python",
   "pygments_lexer": "ipython3",
   "version": "3.10.9"
  }
 },
 "nbformat": 4,
 "nbformat_minor": 5
}
